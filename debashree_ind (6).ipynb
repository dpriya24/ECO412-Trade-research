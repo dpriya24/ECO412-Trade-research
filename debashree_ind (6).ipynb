{
  "nbformat": 4,
  "nbformat_minor": 0,
  "metadata": {
    "colab": {
      "provenance": []
    },
    "kernelspec": {
      "name": "python3",
      "display_name": "Python 3"
    },
    "language_info": {
      "name": "python"
    }
  },
  "cells": [
    {
      "cell_type": "markdown",
      "source": [
        "First, install the gegravity package."
      ],
      "metadata": {
        "id": "p1EEyboL1wJu"
      }
    },
    {
      "cell_type": "code",
      "source": [
        "pip install gegravity"
      ],
      "metadata": {
        "colab": {
          "base_uri": "https://localhost:8080/"
        },
        "id": "mM-d3lFyVuNi",
        "outputId": "6e116f32-aca4-4f8f-80ab-b67aa836e0e2"
      },
      "execution_count": null,
      "outputs": [
        {
          "output_type": "stream",
          "name": "stdout",
          "text": [
            "Collecting gegravity\n",
            "  Downloading gegravity-0.2-py3-none-any.whl (48 kB)\n",
            "\u001b[2K     \u001b[90m━━━━━━━━━━━━━━━━━━━━━━━━━━━━━━━━━━━━━━━━\u001b[0m \u001b[32m48.2/48.2 kB\u001b[0m \u001b[31m1.5 MB/s\u001b[0m eta \u001b[36m0:00:00\u001b[0m\n",
            "\u001b[?25hRequirement already satisfied: numpy>=1.19.2 in /usr/local/lib/python3.10/dist-packages (from gegravity) (1.23.5)\n",
            "Requirement already satisfied: scipy>=1.5.2 in /usr/local/lib/python3.10/dist-packages (from gegravity) (1.11.3)\n",
            "Requirement already satisfied: pandas>=1.1.2 in /usr/local/lib/python3.10/dist-packages (from gegravity) (1.5.3)\n",
            "Collecting gme>=1.3 (from gegravity)\n",
            "  Downloading gme-1.3-py3-none-any.whl (34 kB)\n",
            "Requirement already satisfied: matplotlib>=3.4.2 in /usr/local/lib/python3.10/dist-packages (from gme>=1.3->gegravity) (3.7.1)\n",
            "Requirement already satisfied: statsmodels>=0.12.2 in /usr/local/lib/python3.10/dist-packages (from gme>=1.3->gegravity) (0.14.0)\n",
            "Requirement already satisfied: python-dateutil>=2.8.1 in /usr/local/lib/python3.10/dist-packages (from pandas>=1.1.2->gegravity) (2.8.2)\n",
            "Requirement already satisfied: pytz>=2020.1 in /usr/local/lib/python3.10/dist-packages (from pandas>=1.1.2->gegravity) (2023.3.post1)\n",
            "Requirement already satisfied: contourpy>=1.0.1 in /usr/local/lib/python3.10/dist-packages (from matplotlib>=3.4.2->gme>=1.3->gegravity) (1.2.0)\n",
            "Requirement already satisfied: cycler>=0.10 in /usr/local/lib/python3.10/dist-packages (from matplotlib>=3.4.2->gme>=1.3->gegravity) (0.12.1)\n",
            "Requirement already satisfied: fonttools>=4.22.0 in /usr/local/lib/python3.10/dist-packages (from matplotlib>=3.4.2->gme>=1.3->gegravity) (4.44.0)\n",
            "Requirement already satisfied: kiwisolver>=1.0.1 in /usr/local/lib/python3.10/dist-packages (from matplotlib>=3.4.2->gme>=1.3->gegravity) (1.4.5)\n",
            "Requirement already satisfied: packaging>=20.0 in /usr/local/lib/python3.10/dist-packages (from matplotlib>=3.4.2->gme>=1.3->gegravity) (23.2)\n",
            "Requirement already satisfied: pillow>=6.2.0 in /usr/local/lib/python3.10/dist-packages (from matplotlib>=3.4.2->gme>=1.3->gegravity) (9.4.0)\n",
            "Requirement already satisfied: pyparsing>=2.3.1 in /usr/local/lib/python3.10/dist-packages (from matplotlib>=3.4.2->gme>=1.3->gegravity) (3.1.1)\n",
            "Requirement already satisfied: six>=1.5 in /usr/local/lib/python3.10/dist-packages (from python-dateutil>=2.8.1->pandas>=1.1.2->gegravity) (1.16.0)\n",
            "Requirement already satisfied: patsy>=0.5.2 in /usr/local/lib/python3.10/dist-packages (from statsmodels>=0.12.2->gme>=1.3->gegravity) (0.5.3)\n",
            "Installing collected packages: gme, gegravity\n",
            "Successfully installed gegravity-0.2 gme-1.3\n"
          ]
        }
      ]
    },
    {
      "cell_type": "markdown",
      "source": [
        "LOAD THE PACKAGES"
      ],
      "metadata": {
        "id": "VsuCk7vHp1I0"
      }
    },
    {
      "cell_type": "code",
      "source": [
        "import gegravity as ge\n",
        "import pandas as pd\n",
        "# Increase number of columns printed for a pandas DataFrame\n",
        "pd.set_option(\"display.max_columns\", None)\n",
        "pd.set_option('display.width', 1000)\n",
        "import gme as gme"
      ],
      "metadata": {
        "id": "3P-nKA1PWH9N"
      },
      "execution_count": null,
      "outputs": []
    },
    {
      "cell_type": "markdown",
      "source": [
        "Next, load the gravity data"
      ],
      "metadata": {
        "id": "o-WjQdvP0hy1"
      }
    },
    {
      "cell_type": "code",
      "source": [
        "from google.colab import files\n",
        "uploaded = files.upload()"
      ],
      "metadata": {
        "colab": {
          "base_uri": "https://localhost:8080/",
          "height": 73
        },
        "id": "MC0jPW5xkLGT",
        "outputId": "047bd6e0-25d2-4746-d53a-52c6f0d25df7"
      },
      "execution_count": null,
      "outputs": [
        {
          "output_type": "display_data",
          "data": {
            "text/plain": [
              "<IPython.core.display.HTML object>"
            ],
            "text/html": [
              "\n",
              "     <input type=\"file\" id=\"files-4c86b9e7-859e-4220-ae27-bf6667f87dec\" name=\"files[]\" multiple disabled\n",
              "        style=\"border:none\" />\n",
              "     <output id=\"result-4c86b9e7-859e-4220-ae27-bf6667f87dec\">\n",
              "      Upload widget is only available when the cell has been executed in the\n",
              "      current browser session. Please rerun this cell to enable.\n",
              "      </output>\n",
              "      <script>// Copyright 2017 Google LLC\n",
              "//\n",
              "// Licensed under the Apache License, Version 2.0 (the \"License\");\n",
              "// you may not use this file except in compliance with the License.\n",
              "// You may obtain a copy of the License at\n",
              "//\n",
              "//      http://www.apache.org/licenses/LICENSE-2.0\n",
              "//\n",
              "// Unless required by applicable law or agreed to in writing, software\n",
              "// distributed under the License is distributed on an \"AS IS\" BASIS,\n",
              "// WITHOUT WARRANTIES OR CONDITIONS OF ANY KIND, either express or implied.\n",
              "// See the License for the specific language governing permissions and\n",
              "// limitations under the License.\n",
              "\n",
              "/**\n",
              " * @fileoverview Helpers for google.colab Python module.\n",
              " */\n",
              "(function(scope) {\n",
              "function span(text, styleAttributes = {}) {\n",
              "  const element = document.createElement('span');\n",
              "  element.textContent = text;\n",
              "  for (const key of Object.keys(styleAttributes)) {\n",
              "    element.style[key] = styleAttributes[key];\n",
              "  }\n",
              "  return element;\n",
              "}\n",
              "\n",
              "// Max number of bytes which will be uploaded at a time.\n",
              "const MAX_PAYLOAD_SIZE = 100 * 1024;\n",
              "\n",
              "function _uploadFiles(inputId, outputId) {\n",
              "  const steps = uploadFilesStep(inputId, outputId);\n",
              "  const outputElement = document.getElementById(outputId);\n",
              "  // Cache steps on the outputElement to make it available for the next call\n",
              "  // to uploadFilesContinue from Python.\n",
              "  outputElement.steps = steps;\n",
              "\n",
              "  return _uploadFilesContinue(outputId);\n",
              "}\n",
              "\n",
              "// This is roughly an async generator (not supported in the browser yet),\n",
              "// where there are multiple asynchronous steps and the Python side is going\n",
              "// to poll for completion of each step.\n",
              "// This uses a Promise to block the python side on completion of each step,\n",
              "// then passes the result of the previous step as the input to the next step.\n",
              "function _uploadFilesContinue(outputId) {\n",
              "  const outputElement = document.getElementById(outputId);\n",
              "  const steps = outputElement.steps;\n",
              "\n",
              "  const next = steps.next(outputElement.lastPromiseValue);\n",
              "  return Promise.resolve(next.value.promise).then((value) => {\n",
              "    // Cache the last promise value to make it available to the next\n",
              "    // step of the generator.\n",
              "    outputElement.lastPromiseValue = value;\n",
              "    return next.value.response;\n",
              "  });\n",
              "}\n",
              "\n",
              "/**\n",
              " * Generator function which is called between each async step of the upload\n",
              " * process.\n",
              " * @param {string} inputId Element ID of the input file picker element.\n",
              " * @param {string} outputId Element ID of the output display.\n",
              " * @return {!Iterable<!Object>} Iterable of next steps.\n",
              " */\n",
              "function* uploadFilesStep(inputId, outputId) {\n",
              "  const inputElement = document.getElementById(inputId);\n",
              "  inputElement.disabled = false;\n",
              "\n",
              "  const outputElement = document.getElementById(outputId);\n",
              "  outputElement.innerHTML = '';\n",
              "\n",
              "  const pickedPromise = new Promise((resolve) => {\n",
              "    inputElement.addEventListener('change', (e) => {\n",
              "      resolve(e.target.files);\n",
              "    });\n",
              "  });\n",
              "\n",
              "  const cancel = document.createElement('button');\n",
              "  inputElement.parentElement.appendChild(cancel);\n",
              "  cancel.textContent = 'Cancel upload';\n",
              "  const cancelPromise = new Promise((resolve) => {\n",
              "    cancel.onclick = () => {\n",
              "      resolve(null);\n",
              "    };\n",
              "  });\n",
              "\n",
              "  // Wait for the user to pick the files.\n",
              "  const files = yield {\n",
              "    promise: Promise.race([pickedPromise, cancelPromise]),\n",
              "    response: {\n",
              "      action: 'starting',\n",
              "    }\n",
              "  };\n",
              "\n",
              "  cancel.remove();\n",
              "\n",
              "  // Disable the input element since further picks are not allowed.\n",
              "  inputElement.disabled = true;\n",
              "\n",
              "  if (!files) {\n",
              "    return {\n",
              "      response: {\n",
              "        action: 'complete',\n",
              "      }\n",
              "    };\n",
              "  }\n",
              "\n",
              "  for (const file of files) {\n",
              "    const li = document.createElement('li');\n",
              "    li.append(span(file.name, {fontWeight: 'bold'}));\n",
              "    li.append(span(\n",
              "        `(${file.type || 'n/a'}) - ${file.size} bytes, ` +\n",
              "        `last modified: ${\n",
              "            file.lastModifiedDate ? file.lastModifiedDate.toLocaleDateString() :\n",
              "                                    'n/a'} - `));\n",
              "    const percent = span('0% done');\n",
              "    li.appendChild(percent);\n",
              "\n",
              "    outputElement.appendChild(li);\n",
              "\n",
              "    const fileDataPromise = new Promise((resolve) => {\n",
              "      const reader = new FileReader();\n",
              "      reader.onload = (e) => {\n",
              "        resolve(e.target.result);\n",
              "      };\n",
              "      reader.readAsArrayBuffer(file);\n",
              "    });\n",
              "    // Wait for the data to be ready.\n",
              "    let fileData = yield {\n",
              "      promise: fileDataPromise,\n",
              "      response: {\n",
              "        action: 'continue',\n",
              "      }\n",
              "    };\n",
              "\n",
              "    // Use a chunked sending to avoid message size limits. See b/62115660.\n",
              "    let position = 0;\n",
              "    do {\n",
              "      const length = Math.min(fileData.byteLength - position, MAX_PAYLOAD_SIZE);\n",
              "      const chunk = new Uint8Array(fileData, position, length);\n",
              "      position += length;\n",
              "\n",
              "      const base64 = btoa(String.fromCharCode.apply(null, chunk));\n",
              "      yield {\n",
              "        response: {\n",
              "          action: 'append',\n",
              "          file: file.name,\n",
              "          data: base64,\n",
              "        },\n",
              "      };\n",
              "\n",
              "      let percentDone = fileData.byteLength === 0 ?\n",
              "          100 :\n",
              "          Math.round((position / fileData.byteLength) * 100);\n",
              "      percent.textContent = `${percentDone}% done`;\n",
              "\n",
              "    } while (position < fileData.byteLength);\n",
              "  }\n",
              "\n",
              "  // All done.\n",
              "  yield {\n",
              "    response: {\n",
              "      action: 'complete',\n",
              "    }\n",
              "  };\n",
              "}\n",
              "\n",
              "scope.google = scope.google || {};\n",
              "scope.google.colab = scope.google.colab || {};\n",
              "scope.google.colab._files = {\n",
              "  _uploadFiles,\n",
              "  _uploadFilesContinue,\n",
              "};\n",
              "})(self);\n",
              "</script> "
            ]
          },
          "metadata": {}
        },
        {
          "output_type": "stream",
          "name": "stdout",
          "text": [
            "Saving DEBASHREE_FINALDATASET_200307.csv to DEBASHREE_FINALDATASET_200307.csv\n"
          ]
        }
      ]
    },
    {
      "cell_type": "code",
      "source": [
        "gravity_data_location = \"/content/DEBASHREE_FINALDATASET_200307.csv\"\n",
        "grav_data = pd.read_csv(gravity_data_location)\n",
        "df = pd.read_csv('/content/DEBASHREE_FINALDATASET_200307.csv')\n",
        "print(grav_data.head())"
      ],
      "metadata": {
        "colab": {
          "base_uri": "https://localhost:8080/"
        },
        "id": "wjol3jNckiAu",
        "outputId": "d5ac17e5-f718-4d55-d9f7-fe2717a8b0ac"
      },
      "execution_count": null,
      "outputs": [
        {
          "output_type": "stream",
          "name": "stdout",
          "text": [
            "   year iso_o iso_d   dist    lndist      trade_o  asean_FTA  contig  comlang_off  comcol  comrelig     gdp_o         gdp_d  rta  home         flow  asean   tariff  reporter_prevalence_score  partner_prevalence_score  international  concat\n",
            "0  2021   ARE   ARE    109  4.691348        0.000          0       0            0       0  0.900626  41500000  4.150000e+07    0     1        0.000      0  0.00000                        9.0                       0.0              0  AREARE\n",
            "1  2021   ARE   AUS  11658  9.363748   625480.030          0       0            0       0  0.003787  41500000  1.540000e+09    0     0   625480.030      0  4.48444                        3.4                       3.5              1  AREAUS\n",
            "2  2021   ARE   BRN   6734  8.814925    26570.818          0       0            0       1  0.609419  41500000  1.400000e+07    0     0    26570.818      0  4.80238                        3.4                       2.4              1  AREBRN\n",
            "3  2021   ARE   CHN   6430  8.768730  9284382.400          0       0            0       0  0.022776  41500000  1.770000e+10    0     0  9284382.400      0  5.14391                        3.4                       6.8              1  ARECHN\n",
            "4  2021   ARE   IDN   6572  8.790573   713482.360          0       0            0       0  0.412118  41500000  1.190000e+09    0     0   713482.360      0  4.94018                        3.4                       3.0              1  AREIDN\n"
          ]
        }
      ]
    },
    {
      "cell_type": "markdown",
      "source": [
        "Prepare data and econometric inputs for GE model"
      ],
      "metadata": {
        "id": "mirA-HMQ0-w-"
      }
    },
    {
      "cell_type": "code",
      "source": [
        "# Define GME Estimation Data\n",
        "gme_data = gme.EstimationData(grav_data, # Dataset\n",
        "                              imp_var_name=\"iso_d\", # Importer column name\n",
        "                              exp_var_name=\"iso_o\", # Exporter column name\n",
        "                              year_var_name = \"year\",  # Year column name\n",
        "                              trade_var_name=\"trade_o\")  # Trade column name"
      ],
      "metadata": {
        "id": "97j8xW-Hk6sn"
      },
      "execution_count": null,
      "outputs": []
    },
    {
      "cell_type": "code",
      "source": [
        "#Create Gravity Model\n",
        "gme_model = gme.EstimationModel(gme_data, # Specify data to use\n",
        "                                lhs_var=\"trade_o\",                               # dependent, \"left hand side\" variable\n",
        "                                rhs_var=[ \"tariff\",\"contig\",\"comlang_off\",\"comcol\", # independent variables\n",
        "                                         \"lndist\", \"asean_FTA\",\"international\"],\n",
        "                                fixed_effects=[[\"iso_o\"],[\"iso_d\"]])     # Fixed effects to use"
      ],
      "metadata": {
        "id": "h9T0WgOFlDcS"
      },
      "execution_count": null,
      "outputs": []
    },
    {
      "cell_type": "code",
      "source": [
        "# Estimate gravity model with PPML\n",
        "gme_model.estimate()"
      ],
      "metadata": {
        "colab": {
          "base_uri": "https://localhost:8080/"
        },
        "id": "jZB_3c85mzK-",
        "outputId": "fd46e25d-c062-4f38-f103-c579d37c0059"
      },
      "execution_count": null,
      "outputs": [
        {
          "output_type": "stream",
          "name": "stdout",
          "text": [
            "Estimation began at 10:32 AM  on Nov 17, 2023\n",
            "Omitted Regressors: ['iso_d_fe_VNM']\n",
            "Estimation completed at 10:32 AM  on Nov 17, 2023\n"
          ]
        },
        {
          "output_type": "stream",
          "name": "stderr",
          "text": [
            "/usr/local/lib/python3.10/dist-packages/gme/estimate/_ppml_estimation_and_diagnostics.py:254: FutureWarning: In a future version of pandas all arguments of DataFrame.drop except for the argument 'labels' will be keyword-only.\n",
            "  adjusted_data_frame.drop(col, 1, inplace=True)\n",
            "/usr/local/lib/python3.10/dist-packages/gme/estimate/_ppml_estimation_and_diagnostics.py:306: FutureWarning: The series.append method is deprecated and will be removed from pandas in a future version. Use pandas.concat instead.\n",
            "  diagnostics = overfit_column.append(exclusion_column)\n"
          ]
        },
        {
          "output_type": "execute_result",
          "data": {
            "text/plain": [
              "{'all': <statsmodels.genmod.generalized_linear_model.GLMResultsWrapper at 0x7804ebf5bd60>}"
            ]
          },
          "metadata": {},
          "execution_count": 24
        }
      ]
    },
    {
      "cell_type": "code",
      "source": [
        "# Print econometric results table\n",
        "print(gme_model.results_dict['all'].summary())"
      ],
      "metadata": {
        "colab": {
          "base_uri": "https://localhost:8080/"
        },
        "id": "o_OH5rr-m3dt",
        "outputId": "b87062ff-aee2-4ce7-fae8-f45c1cd51388"
      },
      "execution_count": null,
      "outputs": [
        {
          "output_type": "stream",
          "name": "stdout",
          "text": [
            "                 Generalized Linear Model Regression Results                  \n",
            "==============================================================================\n",
            "Dep. Variable:                trade_o   No. Observations:                  256\n",
            "Model:                            GLM   Df Residuals:                      218\n",
            "Model Family:                 Poisson   Df Model:                           37\n",
            "Link Function:                    Log   Scale:                          1.0000\n",
            "Method:                          IRLS   Log-Likelihood:            -3.3422e+08\n",
            "Date:                Fri, 17 Nov 2023   Deviance:                   6.6844e+08\n",
            "Time:                        10:32:58   Pearson chi2:                 7.10e+08\n",
            "No. Iterations:                    14   Pseudo R-squ. (CS):              1.000\n",
            "Covariance Type:                  HC1                                         \n",
            "=================================================================================\n",
            "                    coef    std err          z      P>|z|      [0.025      0.975]\n",
            "---------------------------------------------------------------------------------\n",
            "tariff           -0.0533      0.062     -0.857      0.392      -0.175       0.069\n",
            "contig            0.2882      0.167      1.728      0.084      -0.039       0.615\n",
            "comlang_off       0.0207      0.198      0.105      0.916      -0.366       0.408\n",
            "comcol            0.9727      0.254      3.827      0.000       0.475       1.471\n",
            "lndist           -0.0896      0.140     -0.639      0.523      -0.364       0.185\n",
            "asean_FTA         0.3073      0.248      1.240      0.215      -0.179       0.793\n",
            "international     1.9127      0.608      3.148      0.002       0.722       3.104\n",
            "iso_o_fe_ARE     13.1666      1.102     11.953      0.000      11.008      15.326\n",
            "iso_o_fe_AUS     14.9407      1.144     13.057      0.000      12.698      17.183\n",
            "iso_o_fe_BRN     10.9544      1.190      9.206      0.000       8.622      13.287\n",
            "iso_o_fe_CHN     17.1559      0.977     17.557      0.000      15.241      19.071\n",
            "iso_o_fe_IDN     14.6065      1.061     13.763      0.000      12.526      16.687\n",
            "iso_o_fe_IND     14.7660      1.268     11.647      0.000      12.281      17.251\n",
            "iso_o_fe_JPN     15.7772      0.985     16.011      0.000      13.846      17.709\n",
            "iso_o_fe_KHM     11.8627      1.090     10.881      0.000       9.726      13.999\n",
            "iso_o_fe_LAO     11.2039      1.126      9.951      0.000       8.997      13.411\n",
            "iso_o_fe_MMR     11.7501      1.188      9.894      0.000       9.422      14.078\n",
            "iso_o_fe_MYS     14.5074      1.030     14.086      0.000      12.489      16.526\n",
            "iso_o_fe_PHL     13.4734      1.028     13.105      0.000      11.458      15.488\n",
            "iso_o_fe_SGP     14.6377      1.137     12.875      0.000      12.409      16.866\n",
            "iso_o_fe_THA     14.9549      1.086     13.770      0.000      12.826      17.084\n",
            "iso_o_fe_USA     15.8323      1.206     13.131      0.000      13.469      18.195\n",
            "iso_o_fe_VNM     14.8900      1.063     14.009      0.000      12.807      16.973\n",
            "iso_d_fe_ARE     -0.4242      0.257     -1.653      0.098      -0.927       0.079\n",
            "iso_d_fe_AUS     -0.0172      0.194     -0.089      0.929      -0.397       0.363\n",
            "iso_d_fe_BRN     -4.2493      0.316    -13.451      0.000      -4.868      -3.630\n",
            "iso_d_fe_CHN      1.9395      0.166     11.666      0.000       1.614       2.265\n",
            "iso_d_fe_IDN     -0.2100      0.196     -1.071      0.284      -0.594       0.174\n",
            "iso_d_fe_IND     -0.0859      0.186     -0.461      0.645      -0.451       0.279\n",
            "iso_d_fe_JPN      1.0279      0.219      4.704      0.000       0.600       1.456\n",
            "iso_d_fe_KHM     -1.9228      0.314     -6.121      0.000      -2.539      -1.307\n",
            "iso_d_fe_LAO     -3.3502      0.585     -5.726      0.000      -4.497      -2.204\n",
            "iso_d_fe_MMR     -2.1835      0.243     -8.992      0.000      -2.659      -1.708\n",
            "iso_d_fe_MYS     -0.2333      0.167     -1.396      0.163      -0.561       0.094\n",
            "iso_d_fe_PHL     -0.5319      0.138     -3.867      0.000      -0.802      -0.262\n",
            "iso_d_fe_SGP     -0.0117      0.223     -0.053      0.958      -0.449       0.426\n",
            "iso_d_fe_THA     -0.0707      0.184     -0.385      0.700      -0.430       0.289\n",
            "iso_d_fe_USA      1.9418      0.238      8.175      0.000       1.476       2.407\n",
            "=================================================================================\n"
          ]
        }
      ]
    },
    {
      "cell_type": "markdown",
      "source": [
        "After econometric estimation, now we solve the baseline model. We assume ARE(United Arab Emirates) is the reference importer, and take cross section sample for year 2021\n"
      ],
      "metadata": {
        "id": "TypB0iQm3UnB"
      }
    },
    {
      "cell_type": "code",
      "source": [
        "# Define GE model\n",
        "ge_model = ge.OneSectorGE(gme_model,                   # gme gravity model\n",
        "                       year = \"2021\",               # Year to use for model\n",
        "                       expend_var_name = \"gdp_d\",       # Expenditure column name\n",
        "                       output_var_name = \"gdp_o\",       # Output column name\n",
        "                       reference_importer = \"ARE\",  # Reference importer\n",
        "                       sigma = 5)                   # Elasticity of substitution"
      ],
      "metadata": {
        "id": "Y4P0X_D1m8oR"
      },
      "execution_count": null,
      "outputs": []
    },
    {
      "cell_type": "markdown",
      "source": [
        "The following commands are not required to define or solve the GE model but can help diagnose issues that arise if\n",
        "the model fails to solve."
      ],
      "metadata": {
        "id": "ueXAfZMz3zBT"
      }
    },
    {
      "cell_type": "code",
      "source": [
        "# Test that the model system of equations is computable from the supplied data and parameters\n",
        "test_diagnostics = ge_model.test_baseline_mr_function()\n",
        "# See what is returned:\n",
        "print(test_diagnostics.keys())\n",
        "# Check the values of the model parameters computed from the baseline data, which should be numeric with no missing\n",
        "# values\n",
        "input_params = test_diagnostics['mr_params']\n",
        "# Check one set of parameters, for example:\n",
        "print(input_params['cost_exp_shr'])"
      ],
      "metadata": {
        "colab": {
          "base_uri": "https://localhost:8080/"
        },
        "id": "QiAnc8-lnJR1",
        "outputId": "31507f8d-8f6a-4eec-c98c-be6a16b77a01"
      },
      "execution_count": null,
      "outputs": [
        {
          "output_type": "stream",
          "name": "stdout",
          "text": [
            "dict_keys(['initial values', 'mr_params', 'function_value'])\n",
            "[[9.79364792e-03 4.32745306e-04 5.47783956e-01 3.74874798e-02\n",
            "  9.70590055e-02 1.51498463e-01 8.04825595e-04 5.78991645e-04\n",
            "  1.96209761e-03 1.16095052e-02 1.25377384e-02 1.27904663e-02\n",
            "  1.55152057e-02 6.82032208e-01 1.11594979e-02 8.84763207e-01]\n",
            " [5.61696010e-02 1.66932108e-04 6.82467168e-01 6.60647606e-02\n",
            "  4.21758691e-01 1.84769185e-01 1.54777492e-03 1.04002867e-03\n",
            "  9.34755846e-03 7.51359656e-02 2.23154246e-02 5.94264059e-02\n",
            "  2.76678866e-02 7.70466968e-01 2.07674943e-02 2.91402967e+00]\n",
            " [3.79525621e-02 4.19338138e-04 1.11498821e-01 3.11409656e-02\n",
            "  1.12012226e-01 1.39526062e-01 7.44526966e-04 7.05729219e-04\n",
            "  2.33409526e-03 1.01861455e-02 1.12911462e-02 1.09693846e-02\n",
            "  1.36077930e-02 5.42340911e-01 1.31902177e-02 7.93268224e-01]\n",
            " [3.56273583e-02 5.28592949e-04 4.27892375e-01 1.09550030e-02\n",
            "  1.03263559e-01 1.15122899e-01 6.68318620e-04 5.91023565e-04\n",
            "  1.65449688e-03 1.83334865e-02 1.29499828e-02 1.48720642e-02\n",
            "  1.75532395e-02 4.88918973e-01 1.20159221e-02 6.85786194e-01]\n",
            " [2.71800942e-02 1.31567990e-03 4.75328429e-01 2.95366940e-02\n",
            "  2.84819313e-02 9.87754273e-02 5.30300007e-04 5.69387201e-04\n",
            "  4.51988030e-03 2.60773553e-02 1.04155165e-02 2.87367985e-02\n",
            "  1.38185489e-02 4.17800340e-01 9.26220618e-03 1.61440474e+00]\n",
            " [4.11130262e-02 4.23028908e-04 5.95136944e-01 3.58249738e-02\n",
            "  9.21597826e-02 3.59694082e-02 6.97401671e-04 4.89504592e-04\n",
            "  1.53674723e-03 1.20483131e-02 1.26814305e-02 1.32450053e-02\n",
            "  1.53280427e-02 6.31073288e-01 1.10377369e-02 9.08843095e-01]\n",
            " [2.79585565e-02 4.21672527e-04 3.97102370e-01 3.30395404e-02\n",
            "  8.92416283e-02 9.65845969e-02 2.76250804e-04 1.74646554e-03\n",
            "  2.21019662e-03 1.13704459e-02 1.13592696e-02 1.14304155e-02\n",
            "  2.22457736e-02 3.92019700e-01 4.91977960e-02 6.17822859e-01]\n",
            " [3.77561400e-02 3.84819814e-04 6.09383887e-01 4.01769320e-02\n",
            "  1.12469932e-01 1.24298109e-01 2.72779513e-03 1.90050968e-04\n",
            "  3.21263398e-03 1.36562555e-02 1.38584988e-02 1.49486877e-02\n",
            "  2.67735341e-02 5.29861900e-01 4.83006414e-02 6.27998775e-01]\n",
            " [3.77491702e-02 1.54002537e-03 9.04522563e-01 4.54014429e-02\n",
            "  4.72118198e-01 1.35204447e-01 9.30454727e-04 9.77895140e-04\n",
            "  6.27920037e-04 4.02131281e-02 1.46525693e-02 4.14165381e-02\n",
            "  2.99248663e-02 8.00772481e-01 1.44759603e-02 2.09806950e+00]\n",
            " [4.32590484e-02 2.18713625e-03 5.16590033e-01 6.50705512e-02\n",
            "  3.30324832e-01 1.36740676e-01 1.29553348e-03 8.51998403e-04\n",
            "  8.38320023e-03 3.71508106e-03 1.52768962e-02 5.18357192e-02\n",
            "  2.82632304e-02 5.75727023e-01 1.55354551e-02 2.27071090e+00]\n",
            " [4.11307360e-02 6.90120851e-04 5.28905769e-01 4.45106236e-02\n",
            "  1.20415827e-01 1.42937837e-01 8.88544652e-04 7.73377242e-04\n",
            "  1.91636540e-03 1.47274288e-02 3.94094723e-03 1.65006749e-02\n",
            "  2.00050993e-02 5.78983614e-01 1.41028218e-02 7.80170357e-01]\n",
            " [5.73653217e-02 2.12674400e-03 6.89534672e-01 7.01565712e-02\n",
            "  4.39783676e-01 1.82783260e-01 1.50851281e-03 1.04595056e-03\n",
            "  9.25026212e-03 6.52917390e-02 2.15571151e-02 5.20765002e-03\n",
            "  2.85906175e-02 7.90521817e-01 2.09633349e-02 2.93444998e+00]\n",
            " [2.65847197e-02 4.01483717e-04 5.10901761e-01 3.21673262e-02\n",
            "  9.14377740e-02 1.02226550e-01 9.26367779e-04 7.41667755e-04\n",
            "  2.38081780e-03 1.58556712e-02 1.04762969e-02 1.25161788e-02\n",
            "  4.94162133e-03 4.24941559e-01 1.05414040e-02 5.53727182e-01]\n",
            " [4.40601579e-02 3.12739185e-04 5.05662152e-01 3.18742106e-02\n",
            "  9.10786251e-02 1.41496288e-01 6.71243219e-04 4.42920645e-04\n",
            "  1.60360262e-03 1.06844283e-02 1.09484667e-02 1.16207786e-02\n",
            "  1.39548839e-02 1.44708166e-01 1.01100117e-02 8.59051929e-01]\n",
            " [3.34809455e-02 6.30962803e-04 5.63889535e-01 3.67101392e-02\n",
            "  1.05112591e-01 1.15043160e-01 1.05006046e-03 6.81906048e-04\n",
            "  1.70928210e-03 1.32574030e-02 1.23227518e-02 1.48768871e-02\n",
            "  1.75882036e-02 4.83937608e-01 3.61548103e-03 6.53385406e-01]\n",
            " [4.20729293e-02 1.04485095e-03 4.92437909e-01 3.34033496e-02\n",
            "  2.56830881e-01 1.38540700e-01 7.56277112e-04 5.26402117e-04\n",
            "  5.08692260e-03 2.85693313e-02 1.12321443e-02 3.03095858e-02\n",
            "  1.48834383e-02 6.24566442e-01 1.04896799e-02 2.38551698e-01]]\n"
          ]
        }
      ]
    },
    {
      "cell_type": "markdown",
      "source": [
        "Check scaling of outward multilateral resistances (OMRs)"
      ],
      "metadata": {
        "id": "dNooV4h34BKC"
      }
    },
    {
      "cell_type": "code",
      "source": [
        "# Check for OMR rescale factors that results in convergence\n",
        "rescale_eval = ge_model.check_omr_rescale(omr_rescale_range=3)\n",
        "print(rescale_eval)"
      ],
      "metadata": {
        "colab": {
          "base_uri": "https://localhost:8080/"
        },
        "id": "Rzb_wZcFnRg5",
        "outputId": "d72cf2d3-66a6-4e9b-b708-529652635ad3"
      },
      "execution_count": null,
      "outputs": [
        {
          "output_type": "stream",
          "name": "stdout",
          "text": [
            "\n",
            "Trying OMR rescale factor of 0.001\n",
            "Solving for baseline MRs...\n",
            "The solution converged.\n",
            "\n",
            "Trying OMR rescale factor of 0.01\n",
            "Solving for baseline MRs...\n",
            "The solution converged.\n",
            "\n",
            "Trying OMR rescale factor of 0.1\n",
            "Solving for baseline MRs...\n",
            "The solution converged.\n",
            "\n",
            "Trying OMR rescale factor of 1\n",
            "Solving for baseline MRs...\n",
            "The solution converged.\n",
            "\n",
            "Trying OMR rescale factor of 10\n",
            "Solving for baseline MRs...\n",
            "The solution converged.\n",
            "\n",
            "Trying OMR rescale factor of 100\n",
            "Solving for baseline MRs...\n",
            "The solution converged.\n",
            "\n",
            "Trying OMR rescale factor of 1000\n",
            "Solving for baseline MRs...\n",
            "The solution converged.\n",
            "   omr_rescale omr_rescale (alt format)  solved                  message  max_func_value  mean_func_value  reference_importer_omr\n",
            "0        0.001                    10^-3    True  The solution converged.    9.801919e-09     1.828535e-10                0.786262\n",
            "1        0.010                    10^-2    True  The solution converged.    1.310770e-10    -5.477840e-12                0.786262\n",
            "2        0.100                    10^-1    True  The solution converged.    7.467680e-10    -4.805378e-11                0.786262\n",
            "3        1.000                     10^0    True  The solution converged.    1.856320e-09     1.844017e-10                0.786262\n",
            "4       10.000                     10^1    True  The solution converged.    7.243519e-10     4.933065e-11                0.786262\n",
            "5      100.000                     10^2    True  The solution converged.    1.221023e-12     6.439294e-15                0.786262\n",
            "6     1000.000                     10^3    True  The solution converged.    4.272138e-13     1.110223e-16                0.786262\n"
          ]
        }
      ]
    },
    {
      "cell_type": "markdown",
      "source": [
        "The next set of steps would involve solving baseline and experiment GE model."
      ],
      "metadata": {
        "id": "rR5DwfDy4KQS"
      }
    },
    {
      "cell_type": "code",
      "source": [
        "# Solve the baseline model\n",
        "ge_model.build_baseline(omr_rescale=100)\n",
        "# Examine the solutions for the baseline multilateral resistances\n",
        "print(ge_model.baseline_mr.head(16))"
      ],
      "metadata": {
        "colab": {
          "base_uri": "https://localhost:8080/"
        },
        "id": "JTsggBzBnXZM",
        "outputId": "6c3dffb5-3936-4b1e-c628-1ece3c94e6f2"
      },
      "execution_count": null,
      "outputs": [
        {
          "output_type": "stream",
          "name": "stdout",
          "text": [
            "Solving for baseline MRs...\n",
            "The solution converged.\n",
            "         baseline omr  baseline imr\n",
            "country                            \n",
            "ARE          0.786262      1.000000\n",
            "AUS          0.744974      1.024965\n",
            "BRN          0.634357      0.985064\n",
            "CHN          0.809144      1.076466\n",
            "IDN          0.794634      1.016907\n",
            "IND          0.741548      0.979618\n",
            "JPN          0.750994      1.019591\n",
            "KHM          0.818215      1.022609\n",
            "LAO          0.768698      0.990892\n",
            "MMR          0.650138      0.977245\n",
            "MYS          0.678582      0.976890\n",
            "PHL          0.760701      1.000332\n",
            "SGP          0.633560      0.975075\n",
            "THA          0.808777      1.006177\n",
            "USA          0.822774      1.165354\n",
            "VNM          0.782769      0.978487\n"
          ]
        }
      ]
    },
    {
      "cell_type": "markdown",
      "source": [
        "Now, till here were the codes to solve the baseline gravity model, now we can use the solved baseline model to conduct various counterfactual experiments. As per our research objectives, the counterfactual is removing India from ASEAN. For this purpose, we change asean_FTA value of India with all member countries as 0. So, now we define the counterfactual experiment."
      ],
      "metadata": {
        "id": "hCZ49IHGr-WS"
      }
    },
    {
      "cell_type": "code",
      "source": [
        "# Create a copy of the baseline data\n",
        "exp_data = ge_model.baseline_data.copy()"
      ],
      "metadata": {
        "id": "bedgd6nIsTKq"
      },
      "execution_count": null,
      "outputs": []
    },
    {
      "cell_type": "code",
      "source": [
        "#We develop an array of all member countries of ASEAN.\n",
        "member_countries = [\"BRN\", \"IDN\", \"IND\", \"KHM\", \"LAO\", \"MYS\", \"MMR\", \"PHL\", \"SGP\", \"THA\", \"VNM\"]\n",
        "\n",
        "#For our counterfactual experiment, we set the value of asean_FTA dummy variable with all the member countries as 0. We use 'for' loop for this iterative purpose.\n",
        "for country in member_countries:\n",
        "  exp_data.loc[(exp_data[\"iso_d\"] == \"IND\") | (exp_data[\"iso_o\"] == country), \"asean_FTA\"] = 0\n",
        "  exp_data.loc[(exp_data[\"iso_d\"] == country) | (exp_data[\"iso_o\"] == \"IND\"), \"asean_FTA\"] = 0\n",
        "\n",
        "# Define the experiment within the GE model\n",
        "ge_model.define_experiment(exp_data)\n",
        "\n",
        "# Examine the baseline and counterfactual trade costs\n",
        "print(ge_model.bilateral_costs.head(56))"
      ],
      "metadata": {
        "colab": {
          "base_uri": "https://localhost:8080/"
        },
        "id": "bqFjCfAYq0qO",
        "outputId": "6295f837-92de-41cf-c9fe-8873a2155d34"
      },
      "execution_count": null,
      "outputs": [
        {
          "output_type": "stream",
          "name": "stdout",
          "text": [
            "             baseline trade cost  experiment trade cost  trade cost change (%)\n",
            "iso_o iso_d                                                                   \n",
            "ARE   ARE               0.656763               0.656763                0.00000\n",
            "      AUS               2.303839               2.303839                0.00000\n",
            "      BRN               6.293561               6.293561                0.00000\n",
            "      CHN               2.346110               2.346110                0.00000\n",
            "      IDN               2.367082               2.367082                0.00000\n",
            "      IND               6.832162               6.832162                0.00000\n",
            "      JPN               2.364943               2.364943                0.00000\n",
            "      KHM               2.362041               2.362041                0.00000\n",
            "      LAO               2.361185               2.361185                0.00000\n",
            "      MMR               6.589376               6.589376                0.00000\n",
            "      MYS               6.458942               6.458942                0.00000\n",
            "      PHL               2.404012               2.404012                0.00000\n",
            "      SGP               6.438129               6.438129                0.00000\n",
            "      THA               2.480407               2.480407                0.00000\n",
            "      USA               2.289923               2.289923                0.00000\n",
            "      VNM               2.436833               2.436833                0.00000\n",
            "AUS   ARE               2.435866               2.435866                0.00000\n",
            "      AUS               0.536283               0.536283                0.00000\n",
            "      BRN               2.606601               2.606601                0.00000\n",
            "      CHN               2.609794               2.609794                0.00000\n",
            "      IDN               2.656498               2.656498                0.00000\n",
            "      IND               2.581943               2.581943                0.00000\n",
            "      JPN               2.586136               2.586136                0.00000\n",
            "      KHM               2.513669               2.513669                0.00000\n",
            "      LAO               2.597076               2.597076                0.00000\n",
            "      MMR               2.541615               2.541615                0.00000\n",
            "      MYS               2.624672               2.624672                0.00000\n",
            "      PHL               2.683448               2.683448                0.00000\n",
            "      SGP               2.716852               2.716852                0.00000\n",
            "      THA               2.585694               2.585694                0.00000\n",
            "      USA               2.500617               2.500617                0.00000\n",
            "      VNM               2.592437               2.592437                0.00000\n",
            "BRN   ARE               8.022694               8.022694                0.00000\n",
            "      AUS               3.075748               3.075748                0.00000\n",
            "      BRN               1.005500               0.739507              -26.45384\n",
            "      CHN               3.251462               3.251462                0.00000\n",
            "      IDN               4.681587               3.443127              -26.45384\n",
            "      IND              11.219537               8.251539              -26.45384\n",
            "      JPN               3.154080               3.154080                0.00000\n",
            "      KHM               4.834084               3.555283              -26.45384\n",
            "      LAO               4.665064               3.430976              -26.45384\n",
            "      MMR              12.108417               8.905276              -26.45384\n",
            "      MYS              16.986707              12.493071              -26.45384\n",
            "      PHL               4.776162               3.512684              -26.45384\n",
            "      SGP              12.622899               9.283658              -26.45384\n",
            "      THA               4.611005               3.391217              -26.45384\n",
            "      USA               2.824856               2.824856                0.00000\n",
            "      VNM               4.824448               3.548196              -26.45384\n",
            "CHN   ARE               2.183968               2.183968                0.00000\n",
            "      AUS               2.078215               2.078215                0.00000\n",
            "      BRN               2.525844               2.525844                0.00000\n",
            "      CHN               0.531211               0.531211                0.00000\n",
            "      IDN               2.206761               2.206761                0.00000\n",
            "      IND               2.979726               2.979726                0.00000\n",
            "      JPN               2.381763               2.381763                0.00000\n",
            "      KHM               2.325342               2.325342                0.00000\n"
          ]
        }
      ]
    },
    {
      "cell_type": "code",
      "source": [
        "# Simulate the counterfactual model\n",
        "ge_model.simulate()"
      ],
      "metadata": {
        "colab": {
          "base_uri": "https://localhost:8080/"
        },
        "id": "9BMF6hRntIrI",
        "outputId": "b5f41a08-ac2a-454e-c840-b8456c054710"
      },
      "execution_count": null,
      "outputs": [
        {
          "output_type": "stream",
          "name": "stdout",
          "text": [
            "Solving for conditional MRs...\n",
            "The solution converged.\n",
            "Solving full GE model...\n",
            "The solution converged.\n"
          ]
        }
      ]
    },
    {
      "cell_type": "code",
      "source": [
        "# We can examine the counterfactual trade flows predicted by the model.\n",
        "print(ge_model.bilateral_trade_results.head())"
      ],
      "metadata": {
        "colab": {
          "base_uri": "https://localhost:8080/"
        },
        "id": "oQerzi0BtOZA",
        "outputId": "83340330-8d56-4fe3-85d5-7ac3643e5ea6"
      },
      "execution_count": null,
      "outputs": [
        {
          "output_type": "stream",
          "name": "stdout",
          "text": [
            "             baseline modeled trade  experiment trade  trade change (percent)\n",
            "iso_o iso_d                                                                  \n",
            "ARE   ARE              5.937136e+06      5.922831e+06               -0.240927\n",
            "      AUS              1.155669e+06      1.153369e+06               -0.199083\n",
            "      BRN              2.448533e+04      2.573396e+04                5.099494\n",
            "      CHN              1.645690e+07      1.647184e+07                0.090806\n",
            "      IDN              8.890153e+05      9.039924e+05                1.684681\n"
          ]
        }
      ]
    },
    {
      "cell_type": "markdown",
      "source": [
        "Now that our baseline and counterfactual models are solved, we can access and export the  GE results. We retrieve many of the different sets of model results."
      ],
      "metadata": {
        "id": "vwoEyght6cBj"
      }
    },
    {
      "cell_type": "code",
      "source": [
        "# A collection of many of the key country-level results (prices, total imports/exports, GDP, welfare, etc.)\n",
        "country_results = ge_model.country_results"
      ],
      "metadata": {
        "id": "4-KLMT3Nts_3"
      },
      "execution_count": null,
      "outputs": []
    },
    {
      "cell_type": "code",
      "source": [
        "print(country_results)"
      ],
      "metadata": {
        "colab": {
          "base_uri": "https://localhost:8080/"
        },
        "id": "sjLrUIWIuJFi",
        "outputId": "1de9ddc9-3434-4db4-89c1-6220c8df85df"
      },
      "execution_count": null,
      "outputs": [
        {
          "output_type": "stream",
          "name": "stdout",
          "text": [
            "         factory gate price change (percent)  omr change (percent)  imr change (percent)  GDP change (percent)  welfare statistic  terms of trade change (percent)  output change (percent)  expenditure change (percent)  foreign exports change (percent)  foreign imports change (percent)  intranational trade change (percent)\n",
            "country                                                                                                                                                                                                                                                                                                                            \n",
            "ARE                                 0.121850             -0.121701              0.000000              0.121850           0.998783                         0.121850                 0.121850                      0.121850                          0.162242                          0.122944                             -0.240927\n",
            "AUS                                 0.061624             -0.061586              0.025530              0.036085           0.999639                         0.036085                 0.061624                      0.061624                          0.113842                          0.089046                             -0.018768\n",
            "BRN                                -0.644568              0.648750              1.507088             -2.119710           1.021656                        -2.119710                -0.644568                     -0.644568                         -0.591492                         -0.665489                            -20.900749\n",
            "CHN                                 0.062265             -0.062226              0.097926             -0.035626           1.000356                        -0.035626                 0.062265                      0.062265                          0.094517                          0.042496                              0.269717\n",
            "IDN                                -0.423497              0.425299              0.616402             -1.033528           1.010443                        -1.033528                -0.423497                     -0.423497                         -0.259695                         -0.221837                            -23.979360\n",
            "IND                                -0.249579              0.250204              0.594370             -0.838963           1.008461                        -0.838963                -0.249579                     -0.249579                          0.014864                          0.071411                            -24.310548\n",
            "JPN                                 0.064191             -0.064150              0.020883              0.043298           0.999567                         0.043298                 0.064191                      0.064191                          0.118447                          0.088818                             -0.042473\n",
            "KHM                                -0.590274              0.593779              0.658703             -1.240804           1.012564                        -1.240804                -0.590274                     -0.590274                         -0.550472                         -0.567789                            -23.595718\n",
            "LAO                                -0.534483              0.537355              0.743927             -1.268970           1.012853                        -1.268970                -0.534483                     -0.534483                         -0.496259                         -0.520294                            -23.422612\n",
            "MMR                                -4.085829              4.259880              1.112476             -5.141111           1.054197                        -5.141111                -4.085829                     -4.085829                         -4.038629                         -4.083723                            -16.435167\n",
            "MYS                                -0.633245              0.637281              1.195300             -1.806946           1.018402                        -1.806946                -0.633245                     -0.633245                         -0.565416                         -0.619711                            -21.885928\n",
            "PHL                                -0.447464              0.449476              0.659119             -1.099337           1.011116                        -1.099337                -0.447464                     -0.447464                         -0.364765                         -0.371924                            -23.813507\n",
            "SGP                                -0.609555              0.613293              1.136967             -1.726888           1.017572                        -1.726888                -0.609555                     -0.609555                         -0.536527                         -0.583642                            -22.103030\n",
            "THA                                -2.464244              2.526503              0.727632             -3.168818           1.032725                        -3.168818                -2.464244                     -2.464244                         -2.370610                         -2.371944                            -20.413956\n",
            "USA                                 0.087389             -0.087313             -0.008449              0.095846           0.999042                         0.095846                 0.087389                      0.087389                          0.173270                          0.137766                             -0.205953\n",
            "VNM                                -0.432335              0.434212              0.634953             -1.060554           1.010719                        -1.060554                -0.432335                     -0.432335                         -0.352244                         -0.360031                            -23.909773\n"
          ]
        }
      ]
    },
    {
      "cell_type": "code",
      "source": [
        "# The bilateral trade results\n",
        "bilateral_results = ge_model.bilateral_trade_results"
      ],
      "metadata": {
        "id": "AwPzj7bgt2HN"
      },
      "execution_count": null,
      "outputs": []
    },
    {
      "cell_type": "code",
      "source": [
        "print(bilateral_results.head(90))"
      ],
      "metadata": {
        "colab": {
          "base_uri": "https://localhost:8080/"
        },
        "id": "Gr7r-eAdt70C",
        "outputId": "f1be4830-63b0-478b-c141-8df9fb064f1f"
      },
      "execution_count": null,
      "outputs": [
        {
          "output_type": "stream",
          "name": "stdout",
          "text": [
            "             baseline modeled trade  experiment trade  trade change (percent)\n",
            "iso_o iso_d                                                                  \n",
            "ARE   ARE              5.937136e+06      5.922831e+06               -0.240927\n",
            "      AUS              1.155669e+06      1.153369e+06               -0.199083\n",
            "      BRN              2.448533e+04      2.573396e+04                5.099494\n",
            "      CHN              1.645690e+07      1.647184e+07                0.090806\n",
            "      IDN              8.890153e+05      9.039924e+05                1.684681\n",
            "...                             ...               ...                     ...\n",
            "IND   IND              3.945382e+07      2.986238e+07              -24.310548\n",
            "      JPN              1.605632e+08      1.620143e+08                0.903761\n",
            "      KHM              8.722752e+05      6.596501e+05              -24.375917\n",
            "      LAO              8.256706e+05      6.268748e+05              -24.076894\n",
            "      MMR              6.200599e+06      4.606397e+06              -25.710459\n",
            "\n",
            "[90 rows x 3 columns]\n"
          ]
        }
      ]
    },
    {
      "cell_type": "code",
      "source": [
        "# A wider selection of aggregate, country-level trade results\n",
        "agg_trade = ge_model.aggregate_trade_results\n",
        "print(agg_trade)"
      ],
      "metadata": {
        "colab": {
          "base_uri": "https://localhost:8080/"
        },
        "id": "FHFXuVy6xBcM",
        "outputId": "c270aecc-8ec1-4704-e0a2-639d90d94864"
      },
      "execution_count": null,
      "outputs": [
        {
          "output_type": "stream",
          "name": "stdout",
          "text": [
            "         baseline modeled shipments  experiment shipments  shipments change (percent)  baseline modeled foreign exports  experiment foreign exports  foreign exports change (percent)  baseline modeled consumption  experiment consumption  consumption change (percent)  baseline modeled foreign imports  experiment foreign imports  foreign imports change (percent)  baseline modeled intranational trade  experiment modeled intranational trade  intranational trade change (percent)\n",
            "country                                                                                                                                                                                                                                                                                                                                                                                                                                                                                      \n",
            "ARE                    6.512166e+07          6.520338e+07                    0.125485                      5.918452e+07                5.928054e+07                          0.162242                  3.062978e+10            3.066742e+10                      0.122874                      3.062384e+10                3.066149e+10                          0.122944                          5.937136e+06                            5.922831e+06                             -0.240927\n",
            "AUS                    2.416563e+09          2.419303e+09                    0.113401                      2.408517e+09                2.411259e+09                          0.113842                  1.540000e+09            1.541363e+09                      0.088482                      1.531955e+09                1.533319e+09                          0.089046                          8.045335e+06                            8.043825e+06                             -0.018768\n",
            "BRN                    2.196875e+07          2.183869e+07                   -0.592009                      2.196819e+07                2.183825e+07                         -0.591492                  1.400000e+07            1.390672e+07                     -0.666297                      1.399944e+07                1.390628e+07                         -0.665489                          5.591623e+02                            4.422932e+02                            -20.900749\n",
            "CHN                    2.777478e+10          2.780415e+10                    0.105761                      2.599230e+10                2.601686e+10                          0.094517                  1.770000e+10            1.771157e+10                      0.065378                      1.591752e+10                1.592428e+10                          0.042496                          1.782482e+09                            1.787290e+09                              0.269717\n",
            "IDN                    1.867344e+09          1.860426e+09                   -0.370489                      1.858622e+09                1.853795e+09                         -0.259695                  1.190000e+09            1.185288e+09                     -0.395971                      1.181278e+09                1.178657e+09                         -0.221837                          8.722261e+06                            6.630719e+06                            -23.979360\n",
            "IND                    4.974353e+09          4.965495e+09                   -0.178072                      4.934899e+09                4.935633e+09                          0.014864                  3.170000e+09            3.162644e+09                     -0.232047                      3.130546e+09                3.132782e+09                          0.071411                          3.945382e+07                            2.986238e+07                            -24.310548\n",
            "JPN                    7.751831e+09          7.760859e+09                    0.116457                      7.655982e+09                7.665050e+09                          0.118447                  4.940000e+09            4.944262e+09                      0.086271                      4.844151e+09                4.848454e+09                          0.088818                          9.584877e+07                            9.580806e+07                             -0.042473\n",
            "KHM                    4.236831e+07          4.213376e+07                   -0.553592                      4.236257e+07                4.212938e+07                         -0.550472                  2.700000e+07            2.684538e+07                     -0.572681                      2.699426e+07                2.684099e+07                         -0.567789                          5.736587e+03                            4.382998e+03                            -23.595718\n",
            "LAO                    2.950090e+07          2.935406e+07                   -0.497725                      2.949901e+07                2.935262e+07                         -0.496259                  1.880000e+07            1.870175e+07                     -0.522593                      1.879811e+07                1.870031e+07                         -0.520294                          1.887269e+03                            1.445221e+03                            -23.422612\n",
            "MMR                    1.021547e+08          9.802775e+07                   -4.039897                      1.021442e+08                9.801902e+07                         -4.038629                  6.510000e+07            6.244021e+07                     -4.085706                      6.508955e+07                6.243147e+07                         -4.083723                          1.045200e+04                            8.734199e+03                            -16.435167\n",
            "MYS                    5.853103e+08          5.819114e+08                   -0.580711                      5.848904e+08                5.815833e+08                         -0.565416                  3.730000e+08            3.705992e+08                     -0.643651                      3.725801e+08                3.702712e+08                         -0.619711                          4.199005e+05                            3.280014e+05                            -21.885928\n",
            "PHL                    6.182634e+08          6.158167e+08                   -0.395750                      6.174465e+08                6.151942e+08                         -0.364765                  3.940000e+08            3.923431e+08                     -0.420531                      3.931830e+08                3.917207e+08                         -0.371924                          8.169720e+05                            6.224223e+05                            -23.813507\n",
            "SGP                    6.229710e+08          6.195267e+08                   -0.552884                      6.224985e+08                6.191587e+08                         -0.536527                  3.970000e+08            3.945813e+08                     -0.609254                      3.965275e+08                3.942132e+08                         -0.583642                          4.725098e+05                            3.680708e+05                            -22.103030\n",
            "THA                    7.940135e+08          7.748800e+08                   -2.409712                      7.922927e+08                7.735106e+08                         -2.370610                  5.060000e+08            4.936875e+08                     -2.433298                      5.042793e+08                4.923181e+08                         -2.371944                          1.720714e+06                            1.369448e+06                            -20.413956\n",
            "USA                    3.609152e+10          3.613732e+10                    0.126889                      3.167732e+10                3.173221e+10                          0.173270                  2.300000e+10            2.301651e+10                      0.071799                      1.858580e+10                1.861141e+10                          0.137766                          4.414198e+09                            4.405107e+09                             -0.205953\n",
            "VNM                    5.696183e+08          5.674449e+08                   -0.381556                      5.689096e+08                5.669056e+08                         -0.352244                  3.630000e+08            3.615262e+08                     -0.406012                      3.622912e+08                3.609869e+08                         -0.360031                          7.087669e+05                            5.393023e+05                            -23.909773\n"
          ]
        }
      ]
    },
    {
      "cell_type": "code",
      "source": [
        "# country multilateral resistance (MR) terms\n",
        "mr_terms = ge_model.country_mr_terms\n",
        "# Get the solver diaganoistics, which is a dictionary containing many types of solver diagnostic info\n",
        "solver_diagnostics = ge_model.solver_diagnostics\n",
        "mr_terms = ge_model.country_mr_terms\n",
        "print(mr_terms)"
      ],
      "metadata": {
        "colab": {
          "base_uri": "https://localhost:8080/"
        },
        "id": "uzlHdQxfxEVF",
        "outputId": "9036ba23-dfac-4010-b924-99db0bdcc16f"
      },
      "execution_count": null,
      "outputs": [
        {
          "output_type": "stream",
          "name": "stdout",
          "text": [
            "         baseline imr  conditional imr  experiment imr  baseline omr  conditional omr  experiment omr\n",
            "country                                                                                              \n",
            "ARE          1.000000         1.000000        1.000000      0.786262         0.785305        0.785305\n",
            "AUS          1.024965         1.025227        1.025227      0.744974         0.744515        0.744515\n",
            "BRN          0.985064         0.999909        0.999909      0.634357         0.638473        0.638473\n",
            "CHN          1.076466         1.077521        1.077521      0.809144         0.808640        0.808640\n",
            "IDN          1.016907         1.023175        1.023175      0.794634         0.798013        0.798013\n",
            "IND          0.979618         0.985440        0.985440      0.741548         0.743403        0.743403\n",
            "JPN          1.019591         1.019804        1.019804      0.750994         0.750512        0.750512\n",
            "KHM          1.022609         1.029345        1.029345      0.818215         0.823074        0.823074\n",
            "LAO          0.990892         0.998264        0.998264      0.768698         0.772828        0.772828\n",
            "MMR          0.977245         0.988116        0.988116      0.650138         0.677834        0.677834\n",
            "MYS          0.976890         0.988567        0.988567      0.678582         0.682906        0.682906\n",
            "PHL          1.000332         1.006925        1.006925      0.760701         0.764120        0.764120\n",
            "SGP          0.975075         0.986161        0.986161      0.633560         0.637445        0.637445\n",
            "THA          1.006177         1.013498        1.013498      0.808777         0.829210        0.829210\n",
            "USA          1.165354         1.165256        1.165256      0.822774         0.822055        0.822055\n",
            "VNM          0.978487         0.984700        0.984700      0.782769         0.786168        0.786168\n"
          ]
        }
      ]
    },
    {
      "cell_type": "code",
      "source": [
        "solver_diagnostics = ge_model.solver_diagnostics"
      ],
      "metadata": {
        "id": "c6Un4blvxSRf"
      },
      "execution_count": null,
      "outputs": []
    },
    {
      "cell_type": "code",
      "source": [
        "# Export the results to a collection of spreadsheet (.csv) files and add trade values in levels to the outputs.\n",
        "from google.colab import drive\n",
        "drive.mount('/content/drive')"
      ],
      "metadata": {
        "colab": {
          "base_uri": "https://localhost:8080/"
        },
        "id": "wGp5VqhnxjVZ",
        "outputId": "5bf36c7b-6edf-4bec-9563-41b495c24eca"
      },
      "execution_count": null,
      "outputs": [
        {
          "output_type": "stream",
          "name": "stdout",
          "text": [
            "Drive already mounted at /content/drive; to attempt to forcibly remount, call drive.mount(\"/content/drive\", force_remount=True).\n"
          ]
        }
      ]
    },
    {
      "cell_type": "code",
      "source": [
        "import os\n",
        "output_directory = \"/content/drive/My Drive/\"\n",
        "os.makedirs(output_directory, exist_ok=True)\n",
        "ge_model.export_results(directory=output_directory, name=\"GE_analysis\")"
      ],
      "metadata": {
        "id": "WGbxYNSEx8uK"
      },
      "execution_count": null,
      "outputs": []
    }
  ]
}