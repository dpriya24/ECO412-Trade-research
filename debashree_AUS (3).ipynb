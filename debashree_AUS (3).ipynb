{
  "nbformat": 4,
  "nbformat_minor": 0,
  "metadata": {
    "colab": {
      "provenance": []
    },
    "kernelspec": {
      "name": "python3",
      "display_name": "Python 3"
    },
    "language_info": {
      "name": "python"
    }
  },
  "cells": [
    {
      "cell_type": "markdown",
      "source": [
        "First, install the gegravity package."
      ],
      "metadata": {
        "id": "p1EEyboL1wJu"
      }
    },
    {
      "cell_type": "code",
      "source": [
        "pip install gegravity"
      ],
      "metadata": {
        "colab": {
          "base_uri": "https://localhost:8080/"
        },
        "id": "mM-d3lFyVuNi",
        "outputId": "1f9a1f39-92b3-48c7-e5e8-8f1e26728997"
      },
      "execution_count": null,
      "outputs": [
        {
          "output_type": "stream",
          "name": "stdout",
          "text": [
            "Collecting gegravity\n",
            "  Downloading gegravity-0.2-py3-none-any.whl (48 kB)\n",
            "\u001b[?25l     \u001b[90m━━━━━━━━━━━━━━━━━━━━━━━━━━━━━━━━━━━━━━━━\u001b[0m \u001b[32m0.0/48.2 kB\u001b[0m \u001b[31m?\u001b[0m eta \u001b[36m-:--:--\u001b[0m\r\u001b[2K     \u001b[90m━━━━━━━━━━━━━━━━━━━━━━━━━━━━━━━━━━━━━━━━\u001b[0m \u001b[32m48.2/48.2 kB\u001b[0m \u001b[31m1.5 MB/s\u001b[0m eta \u001b[36m0:00:00\u001b[0m\n",
            "\u001b[?25hRequirement already satisfied: numpy>=1.19.2 in /usr/local/lib/python3.10/dist-packages (from gegravity) (1.23.5)\n",
            "Requirement already satisfied: scipy>=1.5.2 in /usr/local/lib/python3.10/dist-packages (from gegravity) (1.11.3)\n",
            "Requirement already satisfied: pandas>=1.1.2 in /usr/local/lib/python3.10/dist-packages (from gegravity) (1.5.3)\n",
            "Collecting gme>=1.3 (from gegravity)\n",
            "  Downloading gme-1.3-py3-none-any.whl (34 kB)\n",
            "Requirement already satisfied: matplotlib>=3.4.2 in /usr/local/lib/python3.10/dist-packages (from gme>=1.3->gegravity) (3.7.1)\n",
            "Requirement already satisfied: statsmodels>=0.12.2 in /usr/local/lib/python3.10/dist-packages (from gme>=1.3->gegravity) (0.14.0)\n",
            "Requirement already satisfied: python-dateutil>=2.8.1 in /usr/local/lib/python3.10/dist-packages (from pandas>=1.1.2->gegravity) (2.8.2)\n",
            "Requirement already satisfied: pytz>=2020.1 in /usr/local/lib/python3.10/dist-packages (from pandas>=1.1.2->gegravity) (2023.3.post1)\n",
            "Requirement already satisfied: contourpy>=1.0.1 in /usr/local/lib/python3.10/dist-packages (from matplotlib>=3.4.2->gme>=1.3->gegravity) (1.2.0)\n",
            "Requirement already satisfied: cycler>=0.10 in /usr/local/lib/python3.10/dist-packages (from matplotlib>=3.4.2->gme>=1.3->gegravity) (0.12.1)\n",
            "Requirement already satisfied: fonttools>=4.22.0 in /usr/local/lib/python3.10/dist-packages (from matplotlib>=3.4.2->gme>=1.3->gegravity) (4.44.0)\n",
            "Requirement already satisfied: kiwisolver>=1.0.1 in /usr/local/lib/python3.10/dist-packages (from matplotlib>=3.4.2->gme>=1.3->gegravity) (1.4.5)\n",
            "Requirement already satisfied: packaging>=20.0 in /usr/local/lib/python3.10/dist-packages (from matplotlib>=3.4.2->gme>=1.3->gegravity) (23.2)\n",
            "Requirement already satisfied: pillow>=6.2.0 in /usr/local/lib/python3.10/dist-packages (from matplotlib>=3.4.2->gme>=1.3->gegravity) (9.4.0)\n",
            "Requirement already satisfied: pyparsing>=2.3.1 in /usr/local/lib/python3.10/dist-packages (from matplotlib>=3.4.2->gme>=1.3->gegravity) (3.1.1)\n",
            "Requirement already satisfied: six>=1.5 in /usr/local/lib/python3.10/dist-packages (from python-dateutil>=2.8.1->pandas>=1.1.2->gegravity) (1.16.0)\n",
            "Requirement already satisfied: patsy>=0.5.2 in /usr/local/lib/python3.10/dist-packages (from statsmodels>=0.12.2->gme>=1.3->gegravity) (0.5.3)\n",
            "Installing collected packages: gme, gegravity\n",
            "Successfully installed gegravity-0.2 gme-1.3\n"
          ]
        }
      ]
    },
    {
      "cell_type": "markdown",
      "source": [
        "LOAD THE PACKAGES"
      ],
      "metadata": {
        "id": "VsuCk7vHp1I0"
      }
    },
    {
      "cell_type": "code",
      "source": [
        "import gegravity as ge\n",
        "import pandas as pd\n",
        "# Increase number of columns printed for a pandas DataFrame\n",
        "pd.set_option(\"display.max_columns\", None)\n",
        "pd.set_option('display.width', 1000)\n",
        "import gme as gme"
      ],
      "metadata": {
        "id": "3P-nKA1PWH9N"
      },
      "execution_count": null,
      "outputs": []
    },
    {
      "cell_type": "markdown",
      "source": [
        "Next, load the gravity data"
      ],
      "metadata": {
        "id": "o-WjQdvP0hy1"
      }
    },
    {
      "cell_type": "code",
      "source": [
        "from google.colab import files\n",
        "uploaded = files.upload()"
      ],
      "metadata": {
        "colab": {
          "base_uri": "https://localhost:8080/",
          "height": 73
        },
        "id": "MC0jPW5xkLGT",
        "outputId": "7fb9507b-54b6-4a21-f415-6f96c69931fc"
      },
      "execution_count": null,
      "outputs": [
        {
          "output_type": "display_data",
          "data": {
            "text/plain": [
              "<IPython.core.display.HTML object>"
            ],
            "text/html": [
              "\n",
              "     <input type=\"file\" id=\"files-a969b13f-14a2-48e1-bece-6ec008085c89\" name=\"files[]\" multiple disabled\n",
              "        style=\"border:none\" />\n",
              "     <output id=\"result-a969b13f-14a2-48e1-bece-6ec008085c89\">\n",
              "      Upload widget is only available when the cell has been executed in the\n",
              "      current browser session. Please rerun this cell to enable.\n",
              "      </output>\n",
              "      <script>// Copyright 2017 Google LLC\n",
              "//\n",
              "// Licensed under the Apache License, Version 2.0 (the \"License\");\n",
              "// you may not use this file except in compliance with the License.\n",
              "// You may obtain a copy of the License at\n",
              "//\n",
              "//      http://www.apache.org/licenses/LICENSE-2.0\n",
              "//\n",
              "// Unless required by applicable law or agreed to in writing, software\n",
              "// distributed under the License is distributed on an \"AS IS\" BASIS,\n",
              "// WITHOUT WARRANTIES OR CONDITIONS OF ANY KIND, either express or implied.\n",
              "// See the License for the specific language governing permissions and\n",
              "// limitations under the License.\n",
              "\n",
              "/**\n",
              " * @fileoverview Helpers for google.colab Python module.\n",
              " */\n",
              "(function(scope) {\n",
              "function span(text, styleAttributes = {}) {\n",
              "  const element = document.createElement('span');\n",
              "  element.textContent = text;\n",
              "  for (const key of Object.keys(styleAttributes)) {\n",
              "    element.style[key] = styleAttributes[key];\n",
              "  }\n",
              "  return element;\n",
              "}\n",
              "\n",
              "// Max number of bytes which will be uploaded at a time.\n",
              "const MAX_PAYLOAD_SIZE = 100 * 1024;\n",
              "\n",
              "function _uploadFiles(inputId, outputId) {\n",
              "  const steps = uploadFilesStep(inputId, outputId);\n",
              "  const outputElement = document.getElementById(outputId);\n",
              "  // Cache steps on the outputElement to make it available for the next call\n",
              "  // to uploadFilesContinue from Python.\n",
              "  outputElement.steps = steps;\n",
              "\n",
              "  return _uploadFilesContinue(outputId);\n",
              "}\n",
              "\n",
              "// This is roughly an async generator (not supported in the browser yet),\n",
              "// where there are multiple asynchronous steps and the Python side is going\n",
              "// to poll for completion of each step.\n",
              "// This uses a Promise to block the python side on completion of each step,\n",
              "// then passes the result of the previous step as the input to the next step.\n",
              "function _uploadFilesContinue(outputId) {\n",
              "  const outputElement = document.getElementById(outputId);\n",
              "  const steps = outputElement.steps;\n",
              "\n",
              "  const next = steps.next(outputElement.lastPromiseValue);\n",
              "  return Promise.resolve(next.value.promise).then((value) => {\n",
              "    // Cache the last promise value to make it available to the next\n",
              "    // step of the generator.\n",
              "    outputElement.lastPromiseValue = value;\n",
              "    return next.value.response;\n",
              "  });\n",
              "}\n",
              "\n",
              "/**\n",
              " * Generator function which is called between each async step of the upload\n",
              " * process.\n",
              " * @param {string} inputId Element ID of the input file picker element.\n",
              " * @param {string} outputId Element ID of the output display.\n",
              " * @return {!Iterable<!Object>} Iterable of next steps.\n",
              " */\n",
              "function* uploadFilesStep(inputId, outputId) {\n",
              "  const inputElement = document.getElementById(inputId);\n",
              "  inputElement.disabled = false;\n",
              "\n",
              "  const outputElement = document.getElementById(outputId);\n",
              "  outputElement.innerHTML = '';\n",
              "\n",
              "  const pickedPromise = new Promise((resolve) => {\n",
              "    inputElement.addEventListener('change', (e) => {\n",
              "      resolve(e.target.files);\n",
              "    });\n",
              "  });\n",
              "\n",
              "  const cancel = document.createElement('button');\n",
              "  inputElement.parentElement.appendChild(cancel);\n",
              "  cancel.textContent = 'Cancel upload';\n",
              "  const cancelPromise = new Promise((resolve) => {\n",
              "    cancel.onclick = () => {\n",
              "      resolve(null);\n",
              "    };\n",
              "  });\n",
              "\n",
              "  // Wait for the user to pick the files.\n",
              "  const files = yield {\n",
              "    promise: Promise.race([pickedPromise, cancelPromise]),\n",
              "    response: {\n",
              "      action: 'starting',\n",
              "    }\n",
              "  };\n",
              "\n",
              "  cancel.remove();\n",
              "\n",
              "  // Disable the input element since further picks are not allowed.\n",
              "  inputElement.disabled = true;\n",
              "\n",
              "  if (!files) {\n",
              "    return {\n",
              "      response: {\n",
              "        action: 'complete',\n",
              "      }\n",
              "    };\n",
              "  }\n",
              "\n",
              "  for (const file of files) {\n",
              "    const li = document.createElement('li');\n",
              "    li.append(span(file.name, {fontWeight: 'bold'}));\n",
              "    li.append(span(\n",
              "        `(${file.type || 'n/a'}) - ${file.size} bytes, ` +\n",
              "        `last modified: ${\n",
              "            file.lastModifiedDate ? file.lastModifiedDate.toLocaleDateString() :\n",
              "                                    'n/a'} - `));\n",
              "    const percent = span('0% done');\n",
              "    li.appendChild(percent);\n",
              "\n",
              "    outputElement.appendChild(li);\n",
              "\n",
              "    const fileDataPromise = new Promise((resolve) => {\n",
              "      const reader = new FileReader();\n",
              "      reader.onload = (e) => {\n",
              "        resolve(e.target.result);\n",
              "      };\n",
              "      reader.readAsArrayBuffer(file);\n",
              "    });\n",
              "    // Wait for the data to be ready.\n",
              "    let fileData = yield {\n",
              "      promise: fileDataPromise,\n",
              "      response: {\n",
              "        action: 'continue',\n",
              "      }\n",
              "    };\n",
              "\n",
              "    // Use a chunked sending to avoid message size limits. See b/62115660.\n",
              "    let position = 0;\n",
              "    do {\n",
              "      const length = Math.min(fileData.byteLength - position, MAX_PAYLOAD_SIZE);\n",
              "      const chunk = new Uint8Array(fileData, position, length);\n",
              "      position += length;\n",
              "\n",
              "      const base64 = btoa(String.fromCharCode.apply(null, chunk));\n",
              "      yield {\n",
              "        response: {\n",
              "          action: 'append',\n",
              "          file: file.name,\n",
              "          data: base64,\n",
              "        },\n",
              "      };\n",
              "\n",
              "      let percentDone = fileData.byteLength === 0 ?\n",
              "          100 :\n",
              "          Math.round((position / fileData.byteLength) * 100);\n",
              "      percent.textContent = `${percentDone}% done`;\n",
              "\n",
              "    } while (position < fileData.byteLength);\n",
              "  }\n",
              "\n",
              "  // All done.\n",
              "  yield {\n",
              "    response: {\n",
              "      action: 'complete',\n",
              "    }\n",
              "  };\n",
              "}\n",
              "\n",
              "scope.google = scope.google || {};\n",
              "scope.google.colab = scope.google.colab || {};\n",
              "scope.google.colab._files = {\n",
              "  _uploadFiles,\n",
              "  _uploadFilesContinue,\n",
              "};\n",
              "})(self);\n",
              "</script> "
            ]
          },
          "metadata": {}
        },
        {
          "output_type": "stream",
          "name": "stdout",
          "text": [
            "Saving DEBASHREE_FINALDATASET_200307.csv to DEBASHREE_FINALDATASET_200307.csv\n"
          ]
        }
      ]
    },
    {
      "cell_type": "code",
      "source": [
        "gravity_data_location = \"/content/DEBASHREE_FINALDATASET_200307.csv\"\n",
        "grav_data = pd.read_csv(gravity_data_location)\n",
        "df = pd.read_csv('/content/DEBASHREE_FINALDATASET_200307.csv')\n",
        "print(grav_data.head())"
      ],
      "metadata": {
        "colab": {
          "base_uri": "https://localhost:8080/"
        },
        "id": "wjol3jNckiAu",
        "outputId": "9615c56b-96a1-4bc1-bb1b-dfbea928c3fe"
      },
      "execution_count": null,
      "outputs": [
        {
          "output_type": "stream",
          "name": "stdout",
          "text": [
            "   year iso_o iso_d   dist    lndist      trade_o  asean_FTA  contig  comlang_off  comcol  comrelig     gdp_o         gdp_d  rta  home         flow  asean   tariff  reporter_prevalence_score  partner_prevalence_score  international  concat\n",
            "0  2021   ARE   ARE    109  4.691348        0.000          0       0            0       0  0.900626  41500000  4.150000e+07    0     1        0.000      0  0.00000                        9.0                       0.0              0  AREARE\n",
            "1  2021   ARE   AUS  11658  9.363748   625480.030          0       0            0       0  0.003787  41500000  1.540000e+09    0     0   625480.030      0  4.48444                        3.4                       3.5              1  AREAUS\n",
            "2  2021   ARE   BRN   6734  8.814925    26570.818          0       0            0       1  0.609419  41500000  1.400000e+07    0     0    26570.818      0  4.80238                        3.4                       2.4              1  AREBRN\n",
            "3  2021   ARE   CHN   6430  8.768730  9284382.400          0       0            0       0  0.022776  41500000  1.770000e+10    0     0  9284382.400      0  5.14391                        3.4                       6.8              1  ARECHN\n",
            "4  2021   ARE   IDN   6572  8.790573   713482.360          0       0            0       0  0.412118  41500000  1.190000e+09    0     0   713482.360      0  4.94018                        3.4                       3.0              1  AREIDN\n"
          ]
        }
      ]
    },
    {
      "cell_type": "markdown",
      "source": [
        "Prepare data and econometric inputs for GE model"
      ],
      "metadata": {
        "id": "mirA-HMQ0-w-"
      }
    },
    {
      "cell_type": "code",
      "source": [
        "# Define GME Estimation Data\n",
        "gme_data = gme.EstimationData(grav_data, # Dataset\n",
        "                              imp_var_name=\"iso_d\", # Importer column name\n",
        "                              exp_var_name=\"iso_o\", # Exporter column name\n",
        "                              year_var_name = \"year\",  # Year column name\n",
        "                              trade_var_name=\"trade_o\")  # Trade column name"
      ],
      "metadata": {
        "id": "97j8xW-Hk6sn"
      },
      "execution_count": null,
      "outputs": []
    },
    {
      "cell_type": "code",
      "source": [
        "#Create Gravity Model\n",
        "gme_model = gme.EstimationModel(gme_data, # Specify data to use\n",
        "                                lhs_var=\"trade_o\",                               # dependent, \"left hand side\" variable\n",
        "                                rhs_var=[ \"tariff\",\"contig\",\"comlang_off\",\"comcol\", # independent variables\n",
        "                                         \"lndist\", \"asean_FTA\",\"international\"],\n",
        "                                fixed_effects=[[\"iso_o\"],[\"iso_d\"]])     # Fixed effects to use"
      ],
      "metadata": {
        "id": "h9T0WgOFlDcS"
      },
      "execution_count": null,
      "outputs": []
    },
    {
      "cell_type": "code",
      "source": [
        "# Estimate gravity model with PPML\n",
        "gme_model.estimate()"
      ],
      "metadata": {
        "colab": {
          "base_uri": "https://localhost:8080/"
        },
        "id": "jZB_3c85mzK-",
        "outputId": "c1c3b198-c2b2-4f17-ff14-f4ea28088dbf"
      },
      "execution_count": null,
      "outputs": [
        {
          "output_type": "stream",
          "name": "stdout",
          "text": [
            "Estimation began at 10:36 AM  on Nov 17, 2023\n",
            "Omitted Regressors: ['iso_d_fe_VNM']\n",
            "Estimation completed at 10:36 AM  on Nov 17, 2023\n"
          ]
        },
        {
          "output_type": "stream",
          "name": "stderr",
          "text": [
            "/usr/local/lib/python3.10/dist-packages/gme/estimate/_ppml_estimation_and_diagnostics.py:254: FutureWarning: In a future version of pandas all arguments of DataFrame.drop except for the argument 'labels' will be keyword-only.\n",
            "  adjusted_data_frame.drop(col, 1, inplace=True)\n",
            "/usr/local/lib/python3.10/dist-packages/gme/estimate/_ppml_estimation_and_diagnostics.py:306: FutureWarning: The series.append method is deprecated and will be removed from pandas in a future version. Use pandas.concat instead.\n",
            "  diagnostics = overfit_column.append(exclusion_column)\n"
          ]
        },
        {
          "output_type": "execute_result",
          "data": {
            "text/plain": [
              "{'all': <statsmodels.genmod.generalized_linear_model.GLMResultsWrapper at 0x7f65de96f190>}"
            ]
          },
          "metadata": {},
          "execution_count": 7
        }
      ]
    },
    {
      "cell_type": "code",
      "source": [
        "# Print econometric results table\n",
        "print(gme_model.results_dict['all'].summary())"
      ],
      "metadata": {
        "colab": {
          "base_uri": "https://localhost:8080/"
        },
        "id": "o_OH5rr-m3dt",
        "outputId": "cdd8fc38-2aa0-4bf6-efee-9d7d85106923"
      },
      "execution_count": null,
      "outputs": [
        {
          "output_type": "stream",
          "name": "stdout",
          "text": [
            "                 Generalized Linear Model Regression Results                  \n",
            "==============================================================================\n",
            "Dep. Variable:                trade_o   No. Observations:                  256\n",
            "Model:                            GLM   Df Residuals:                      218\n",
            "Model Family:                 Poisson   Df Model:                           37\n",
            "Link Function:                    Log   Scale:                          1.0000\n",
            "Method:                          IRLS   Log-Likelihood:            -3.3422e+08\n",
            "Date:                Fri, 17 Nov 2023   Deviance:                   6.6844e+08\n",
            "Time:                        10:36:52   Pearson chi2:                 7.10e+08\n",
            "No. Iterations:                    14   Pseudo R-squ. (CS):              1.000\n",
            "Covariance Type:                  HC1                                         \n",
            "=================================================================================\n",
            "                    coef    std err          z      P>|z|      [0.025      0.975]\n",
            "---------------------------------------------------------------------------------\n",
            "tariff           -0.0533      0.062     -0.857      0.392      -0.175       0.069\n",
            "contig            0.2882      0.167      1.728      0.084      -0.039       0.615\n",
            "comlang_off       0.0207      0.198      0.105      0.916      -0.366       0.408\n",
            "comcol            0.9727      0.254      3.827      0.000       0.475       1.471\n",
            "lndist           -0.0896      0.140     -0.639      0.523      -0.364       0.185\n",
            "asean_FTA         0.3073      0.248      1.240      0.215      -0.179       0.793\n",
            "international     1.9127      0.608      3.148      0.002       0.722       3.104\n",
            "iso_o_fe_ARE     13.1666      1.102     11.953      0.000      11.008      15.326\n",
            "iso_o_fe_AUS     14.9407      1.144     13.057      0.000      12.698      17.183\n",
            "iso_o_fe_BRN     10.9544      1.190      9.206      0.000       8.622      13.287\n",
            "iso_o_fe_CHN     17.1559      0.977     17.557      0.000      15.241      19.071\n",
            "iso_o_fe_IDN     14.6065      1.061     13.763      0.000      12.526      16.687\n",
            "iso_o_fe_IND     14.7660      1.268     11.647      0.000      12.281      17.251\n",
            "iso_o_fe_JPN     15.7772      0.985     16.011      0.000      13.846      17.709\n",
            "iso_o_fe_KHM     11.8627      1.090     10.881      0.000       9.726      13.999\n",
            "iso_o_fe_LAO     11.2039      1.126      9.951      0.000       8.997      13.411\n",
            "iso_o_fe_MMR     11.7501      1.188      9.894      0.000       9.422      14.078\n",
            "iso_o_fe_MYS     14.5074      1.030     14.086      0.000      12.489      16.526\n",
            "iso_o_fe_PHL     13.4734      1.028     13.105      0.000      11.458      15.488\n",
            "iso_o_fe_SGP     14.6377      1.137     12.875      0.000      12.409      16.866\n",
            "iso_o_fe_THA     14.9549      1.086     13.770      0.000      12.826      17.084\n",
            "iso_o_fe_USA     15.8323      1.206     13.131      0.000      13.469      18.195\n",
            "iso_o_fe_VNM     14.8900      1.063     14.009      0.000      12.807      16.973\n",
            "iso_d_fe_ARE     -0.4242      0.257     -1.653      0.098      -0.927       0.079\n",
            "iso_d_fe_AUS     -0.0172      0.194     -0.089      0.929      -0.397       0.363\n",
            "iso_d_fe_BRN     -4.2493      0.316    -13.451      0.000      -4.868      -3.630\n",
            "iso_d_fe_CHN      1.9395      0.166     11.666      0.000       1.614       2.265\n",
            "iso_d_fe_IDN     -0.2100      0.196     -1.071      0.284      -0.594       0.174\n",
            "iso_d_fe_IND     -0.0859      0.186     -0.461      0.645      -0.451       0.279\n",
            "iso_d_fe_JPN      1.0279      0.219      4.704      0.000       0.600       1.456\n",
            "iso_d_fe_KHM     -1.9228      0.314     -6.121      0.000      -2.539      -1.307\n",
            "iso_d_fe_LAO     -3.3502      0.585     -5.726      0.000      -4.497      -2.204\n",
            "iso_d_fe_MMR     -2.1835      0.243     -8.992      0.000      -2.659      -1.708\n",
            "iso_d_fe_MYS     -0.2333      0.167     -1.396      0.163      -0.561       0.094\n",
            "iso_d_fe_PHL     -0.5319      0.138     -3.867      0.000      -0.802      -0.262\n",
            "iso_d_fe_SGP     -0.0117      0.223     -0.053      0.958      -0.449       0.426\n",
            "iso_d_fe_THA     -0.0707      0.184     -0.385      0.700      -0.430       0.289\n",
            "iso_d_fe_USA      1.9418      0.238      8.175      0.000       1.476       2.407\n",
            "=================================================================================\n"
          ]
        }
      ]
    },
    {
      "cell_type": "markdown",
      "source": [
        "After econometric estimation, now we solve the baseline model. We assume ARE(United Arab Emirates) is the reference importer, and take cross section sample for year 2021\n"
      ],
      "metadata": {
        "id": "TypB0iQm3UnB"
      }
    },
    {
      "cell_type": "code",
      "source": [
        "# Define GE model\n",
        "ge_model = ge.OneSectorGE(gme_model,                   # gme gravity model\n",
        "                       year = \"2021\",               # Year to use for model\n",
        "                       expend_var_name = \"gdp_d\",       # Expenditure column name\n",
        "                       output_var_name = \"gdp_o\",       # Output column name\n",
        "                       reference_importer = \"ARE\",  # Reference importer\n",
        "                       sigma = 5)                   # Elasticity of substitution"
      ],
      "metadata": {
        "id": "Y4P0X_D1m8oR"
      },
      "execution_count": null,
      "outputs": []
    },
    {
      "cell_type": "markdown",
      "source": [
        "The following commands are not required to define or solve the GE model but can help diagnose issues that arise if\n",
        "the model fails to solve."
      ],
      "metadata": {
        "id": "ueXAfZMz3zBT"
      }
    },
    {
      "cell_type": "code",
      "source": [
        "# Test that the model system of equations is computable from the supplied data and parameters\n",
        "test_diagnostics = ge_model.test_baseline_mr_function()\n",
        "# See what is returned:\n",
        "print(test_diagnostics.keys())\n",
        "# Check the values of the model parameters computed from the baseline data, which should be numeric with no missing\n",
        "# values\n",
        "input_params = test_diagnostics['mr_params']\n",
        "# Check one set of parameters, for example:\n",
        "print(input_params['cost_exp_shr'])"
      ],
      "metadata": {
        "colab": {
          "base_uri": "https://localhost:8080/"
        },
        "id": "QiAnc8-lnJR1",
        "outputId": "e486ede5-5c31-4e5e-b08e-617f3ad28657"
      },
      "execution_count": null,
      "outputs": [
        {
          "output_type": "stream",
          "name": "stdout",
          "text": [
            "dict_keys(['initial values', 'mr_params', 'function_value'])\n",
            "[[9.79364792e-03 4.32745306e-04 5.47783956e-01 3.74874798e-02\n",
            "  9.70590055e-02 1.51498463e-01 8.04825595e-04 5.78991645e-04\n",
            "  1.96209761e-03 1.16095052e-02 1.25377384e-02 1.27904663e-02\n",
            "  1.55152057e-02 6.82032208e-01 1.11594979e-02 8.84763207e-01]\n",
            " [5.61696010e-02 1.66932108e-04 6.82467168e-01 6.60647606e-02\n",
            "  4.21758691e-01 1.84769185e-01 1.54777492e-03 1.04002867e-03\n",
            "  9.34755846e-03 7.51359656e-02 2.23154246e-02 5.94264059e-02\n",
            "  2.76678866e-02 7.70466968e-01 2.07674943e-02 2.91402967e+00]\n",
            " [3.79525621e-02 4.19338138e-04 1.11498821e-01 3.11409656e-02\n",
            "  1.12012226e-01 1.39526062e-01 7.44526966e-04 7.05729219e-04\n",
            "  2.33409526e-03 1.01861455e-02 1.12911462e-02 1.09693846e-02\n",
            "  1.36077930e-02 5.42340911e-01 1.31902177e-02 7.93268224e-01]\n",
            " [3.56273583e-02 5.28592949e-04 4.27892375e-01 1.09550030e-02\n",
            "  1.03263559e-01 1.15122899e-01 6.68318620e-04 5.91023565e-04\n",
            "  1.65449688e-03 1.83334865e-02 1.29499828e-02 1.48720642e-02\n",
            "  1.75532395e-02 4.88918973e-01 1.20159221e-02 6.85786194e-01]\n",
            " [2.71800942e-02 1.31567990e-03 4.75328429e-01 2.95366940e-02\n",
            "  2.84819313e-02 9.87754273e-02 5.30300007e-04 5.69387201e-04\n",
            "  4.51988030e-03 2.60773553e-02 1.04155165e-02 2.87367985e-02\n",
            "  1.38185489e-02 4.17800340e-01 9.26220618e-03 1.61440474e+00]\n",
            " [4.11130262e-02 4.23028908e-04 5.95136944e-01 3.58249738e-02\n",
            "  9.21597826e-02 3.59694082e-02 6.97401671e-04 4.89504592e-04\n",
            "  1.53674723e-03 1.20483131e-02 1.26814305e-02 1.32450053e-02\n",
            "  1.53280427e-02 6.31073288e-01 1.10377369e-02 9.08843095e-01]\n",
            " [2.79585565e-02 4.21672527e-04 3.97102370e-01 3.30395404e-02\n",
            "  8.92416283e-02 9.65845969e-02 2.76250804e-04 1.74646554e-03\n",
            "  2.21019662e-03 1.13704459e-02 1.13592696e-02 1.14304155e-02\n",
            "  2.22457736e-02 3.92019700e-01 4.91977960e-02 6.17822859e-01]\n",
            " [3.77561400e-02 3.84819814e-04 6.09383887e-01 4.01769320e-02\n",
            "  1.12469932e-01 1.24298109e-01 2.72779513e-03 1.90050968e-04\n",
            "  3.21263398e-03 1.36562555e-02 1.38584988e-02 1.49486877e-02\n",
            "  2.67735341e-02 5.29861900e-01 4.83006414e-02 6.27998775e-01]\n",
            " [3.77491702e-02 1.54002537e-03 9.04522563e-01 4.54014429e-02\n",
            "  4.72118198e-01 1.35204447e-01 9.30454727e-04 9.77895140e-04\n",
            "  6.27920037e-04 4.02131281e-02 1.46525693e-02 4.14165381e-02\n",
            "  2.99248663e-02 8.00772481e-01 1.44759603e-02 2.09806950e+00]\n",
            " [4.32590484e-02 2.18713625e-03 5.16590033e-01 6.50705512e-02\n",
            "  3.30324832e-01 1.36740676e-01 1.29553348e-03 8.51998403e-04\n",
            "  8.38320023e-03 3.71508106e-03 1.52768962e-02 5.18357192e-02\n",
            "  2.82632304e-02 5.75727023e-01 1.55354551e-02 2.27071090e+00]\n",
            " [4.11307360e-02 6.90120851e-04 5.28905769e-01 4.45106236e-02\n",
            "  1.20415827e-01 1.42937837e-01 8.88544652e-04 7.73377242e-04\n",
            "  1.91636540e-03 1.47274288e-02 3.94094723e-03 1.65006749e-02\n",
            "  2.00050993e-02 5.78983614e-01 1.41028218e-02 7.80170357e-01]\n",
            " [5.73653217e-02 2.12674400e-03 6.89534672e-01 7.01565712e-02\n",
            "  4.39783676e-01 1.82783260e-01 1.50851281e-03 1.04595056e-03\n",
            "  9.25026212e-03 6.52917390e-02 2.15571151e-02 5.20765002e-03\n",
            "  2.85906175e-02 7.90521817e-01 2.09633349e-02 2.93444998e+00]\n",
            " [2.65847197e-02 4.01483717e-04 5.10901761e-01 3.21673262e-02\n",
            "  9.14377740e-02 1.02226550e-01 9.26367779e-04 7.41667755e-04\n",
            "  2.38081780e-03 1.58556712e-02 1.04762969e-02 1.25161788e-02\n",
            "  4.94162133e-03 4.24941559e-01 1.05414040e-02 5.53727182e-01]\n",
            " [4.40601579e-02 3.12739185e-04 5.05662152e-01 3.18742106e-02\n",
            "  9.10786251e-02 1.41496288e-01 6.71243219e-04 4.42920645e-04\n",
            "  1.60360262e-03 1.06844283e-02 1.09484667e-02 1.16207786e-02\n",
            "  1.39548839e-02 1.44708166e-01 1.01100117e-02 8.59051929e-01]\n",
            " [3.34809455e-02 6.30962803e-04 5.63889535e-01 3.67101392e-02\n",
            "  1.05112591e-01 1.15043160e-01 1.05006046e-03 6.81906048e-04\n",
            "  1.70928210e-03 1.32574030e-02 1.23227518e-02 1.48768871e-02\n",
            "  1.75882036e-02 4.83937608e-01 3.61548103e-03 6.53385406e-01]\n",
            " [4.20729293e-02 1.04485095e-03 4.92437909e-01 3.34033496e-02\n",
            "  2.56830881e-01 1.38540700e-01 7.56277112e-04 5.26402117e-04\n",
            "  5.08692260e-03 2.85693313e-02 1.12321443e-02 3.03095858e-02\n",
            "  1.48834383e-02 6.24566442e-01 1.04896799e-02 2.38551698e-01]]\n"
          ]
        }
      ]
    },
    {
      "cell_type": "markdown",
      "source": [
        "Check scaling of outward multilateral resistances (OMRs)"
      ],
      "metadata": {
        "id": "dNooV4h34BKC"
      }
    },
    {
      "cell_type": "code",
      "source": [
        "# Check for OMR rescale factors that results in convergence\n",
        "rescale_eval = ge_model.check_omr_rescale(omr_rescale_range=3)\n",
        "print(rescale_eval)"
      ],
      "metadata": {
        "colab": {
          "base_uri": "https://localhost:8080/"
        },
        "id": "Rzb_wZcFnRg5",
        "outputId": "ed150b05-d6c4-44f7-e609-c9c032b51a84"
      },
      "execution_count": null,
      "outputs": [
        {
          "output_type": "stream",
          "name": "stdout",
          "text": [
            "\n",
            "Trying OMR rescale factor of 0.001\n",
            "Solving for baseline MRs...\n",
            "The solution converged.\n",
            "\n",
            "Trying OMR rescale factor of 0.01\n",
            "Solving for baseline MRs...\n",
            "The solution converged.\n",
            "\n",
            "Trying OMR rescale factor of 0.1\n",
            "Solving for baseline MRs...\n",
            "The solution converged.\n",
            "\n",
            "Trying OMR rescale factor of 1\n",
            "Solving for baseline MRs...\n",
            "The solution converged.\n",
            "\n",
            "Trying OMR rescale factor of 10\n",
            "Solving for baseline MRs...\n",
            "The solution converged.\n",
            "\n",
            "Trying OMR rescale factor of 100\n",
            "Solving for baseline MRs...\n",
            "The solution converged.\n",
            "\n",
            "Trying OMR rescale factor of 1000\n",
            "Solving for baseline MRs...\n",
            "The solution converged.\n",
            "   omr_rescale omr_rescale (alt format)  solved                  message  max_func_value  mean_func_value  reference_importer_omr\n",
            "0        0.001                    10^-3    True  The solution converged.    9.801919e-09     1.828535e-10                0.786262\n",
            "1        0.010                    10^-2    True  The solution converged.    1.310770e-10    -5.477840e-12                0.786262\n",
            "2        0.100                    10^-1    True  The solution converged.    7.467680e-10    -4.805378e-11                0.786262\n",
            "3        1.000                     10^0    True  The solution converged.    1.856320e-09     1.844017e-10                0.786262\n",
            "4       10.000                     10^1    True  The solution converged.    7.243519e-10     4.933065e-11                0.786262\n",
            "5      100.000                     10^2    True  The solution converged.    1.221023e-12     6.439294e-15                0.786262\n",
            "6     1000.000                     10^3    True  The solution converged.    4.272138e-13     1.110223e-16                0.786262\n"
          ]
        }
      ]
    },
    {
      "cell_type": "markdown",
      "source": [
        "The next set of steps would involve solving baseline and experiment GE model."
      ],
      "metadata": {
        "id": "rR5DwfDy4KQS"
      }
    },
    {
      "cell_type": "code",
      "source": [
        "# Solve the baseline model\n",
        "ge_model.build_baseline(omr_rescale=100)\n",
        "# Examine the solutions for the baseline multilateral resistances\n",
        "print(ge_model.baseline_mr.head(16))"
      ],
      "metadata": {
        "colab": {
          "base_uri": "https://localhost:8080/"
        },
        "id": "JTsggBzBnXZM",
        "outputId": "16422e7c-8ffc-4d10-b908-1439b913c77c"
      },
      "execution_count": null,
      "outputs": [
        {
          "output_type": "stream",
          "name": "stdout",
          "text": [
            "Solving for baseline MRs...\n",
            "The solution converged.\n",
            "         baseline omr  baseline imr\n",
            "country                            \n",
            "ARE          0.786262      1.000000\n",
            "AUS          0.744974      1.024965\n",
            "BRN          0.634357      0.985064\n",
            "CHN          0.809144      1.076466\n",
            "IDN          0.794634      1.016907\n",
            "IND          0.741548      0.979618\n",
            "JPN          0.750994      1.019591\n",
            "KHM          0.818215      1.022609\n",
            "LAO          0.768698      0.990892\n",
            "MMR          0.650138      0.977245\n",
            "MYS          0.678582      0.976890\n",
            "PHL          0.760701      1.000332\n",
            "SGP          0.633560      0.975075\n",
            "THA          0.808777      1.006177\n",
            "USA          0.822774      1.165354\n",
            "VNM          0.782769      0.978487\n"
          ]
        }
      ]
    },
    {
      "cell_type": "markdown",
      "source": [
        "Now, till here were the codes to solve the baseline gravity model, now we can use the solved baseline model to conduct various counterfactual experiments. As per our research objectives, the counterfactual is adding Australia into ASEAN. For this purpose, we change asean_FTA with all member countries as 1. So, now we define the counterfactual experiment."
      ],
      "metadata": {
        "id": "hCZ49IHGr-WS"
      }
    },
    {
      "cell_type": "code",
      "source": [
        "# Create a copy of the baseline data\n",
        "exp_data = ge_model.baseline_data.copy()"
      ],
      "metadata": {
        "id": "bedgd6nIsTKq"
      },
      "execution_count": null,
      "outputs": []
    },
    {
      "cell_type": "code",
      "source": [
        "#We develop an array of all member countries of ASEAN.\n",
        "member_countries = [\"BRN\", \"IDN\", \"IND\", \"KHM\", \"LAO\", \"MYS\", \"MMR\", \"PHL\", \"SGP\", \"THA\", \"VNM\"]\n",
        "\n",
        "#For our counterfactual experiment, we set the value of asean_FTA dummy variable with all the member countries as 1. We use 'for' loop for this iterative purpose.\n",
        "for country in member_countries:\n",
        "  exp_data.loc[(exp_data[\"iso_d\"] == \"AUS\") | (exp_data[\"iso_o\"] == country), \"asean_FTA\"] = 1\n",
        "  exp_data.loc[(exp_data[\"iso_d\"] == country) | (exp_data[\"iso_o\"] == \"AUS\"), \"asean_FTA\"] = 1\n",
        "\n",
        "# Define the experiment within the GE model\n",
        "ge_model.define_experiment(exp_data)\n",
        "\n",
        "# Examine the baseline and counterfactual trade costs\n",
        "print(ge_model.bilateral_costs.head(56))"
      ],
      "metadata": {
        "colab": {
          "base_uri": "https://localhost:8080/"
        },
        "id": "bqFjCfAYq0qO",
        "outputId": "15d6b1ae-e0e3-4e82-b7e4-2a642242d64f"
      },
      "execution_count": null,
      "outputs": [
        {
          "output_type": "stream",
          "name": "stdout",
          "text": [
            "             baseline trade cost  experiment trade cost  trade cost change (%)\n",
            "iso_o iso_d                                                                   \n",
            "ARE   ARE               0.656763               0.656763                0.00000\n",
            "      AUS               2.303839               3.132508               35.96903\n",
            "      BRN               6.293561               8.557294               35.96903\n",
            "      CHN               2.346110               2.346110                0.00000\n",
            "      IDN               2.367082               3.218498               35.96903\n",
            "      IND               6.832162               9.289624               35.96903\n",
            "      JPN               2.364943               2.364943                0.00000\n",
            "      KHM               2.362041               3.211644               35.96903\n",
            "      LAO               2.361185               3.210480               35.96903\n",
            "      MMR               6.589376               8.959511               35.96903\n",
            "      MYS               6.458942               8.782161               35.96903\n",
            "      PHL               2.404012               3.268712               35.96903\n",
            "      SGP               6.438129               8.753861               35.96903\n",
            "      THA               2.480407               3.372585               35.96903\n",
            "      USA               2.289923               2.289923                0.00000\n",
            "      VNM               2.436833               3.313338               35.96903\n",
            "AUS   ARE               2.435866               3.312023               35.96903\n",
            "      AUS               0.536283               0.729179               35.96903\n",
            "      BRN               2.606601               3.544170               35.96903\n",
            "      CHN               2.609794               3.548511               35.96903\n",
            "      IDN               2.656498               3.612014               35.96903\n",
            "      IND               2.581943               3.510644               35.96903\n",
            "      JPN               2.586136               3.516345               35.96903\n",
            "      KHM               2.513669               3.417812               35.96903\n",
            "      LAO               2.597076               3.531219               35.96903\n",
            "      MMR               2.541615               3.455809               35.96903\n",
            "      MYS               2.624672               3.568741               35.96903\n",
            "      PHL               2.683448               3.648658               35.96903\n",
            "      SGP               2.716852               3.694078               35.96903\n",
            "      THA               2.585694               3.515743               35.96903\n",
            "      USA               2.500617               3.400065               35.96903\n",
            "      VNM               2.592437               3.524911               35.96903\n",
            "BRN   ARE               8.022694              10.908379               35.96903\n",
            "      AUS               3.075748               4.182065               35.96903\n",
            "      BRN               1.005500               1.005500                0.00000\n",
            "      CHN               3.251462               4.420981               35.96903\n",
            "      IDN               4.681587               4.681587                0.00000\n",
            "      IND              11.219537              11.219537                0.00000\n",
            "      JPN               3.154080               4.288572               35.96903\n",
            "      KHM               4.834084               4.834084                0.00000\n",
            "      LAO               4.665064               4.665064                0.00000\n",
            "      MMR              12.108417              12.108417                0.00000\n",
            "      MYS              16.986707              16.986707                0.00000\n",
            "      PHL               4.776162               4.776162                0.00000\n",
            "      SGP              12.622899              12.622899                0.00000\n",
            "      THA               4.611005               4.611005                0.00000\n",
            "      USA               2.824856               3.840930               35.96903\n",
            "      VNM               4.824448               4.824448                0.00000\n",
            "CHN   ARE               2.183968               2.183968                0.00000\n",
            "      AUS               2.078215               2.825729               35.96903\n",
            "      BRN               2.525844               3.434365               35.96903\n",
            "      CHN               0.531211               0.531211                0.00000\n",
            "      IDN               2.206761               3.000511               35.96903\n",
            "      IND               2.979726               4.051504               35.96903\n",
            "      JPN               2.381763               2.381763                0.00000\n",
            "      KHM               2.325342               3.161745               35.96903\n"
          ]
        }
      ]
    },
    {
      "cell_type": "code",
      "source": [
        "# Simulate the counterfactual model\n",
        "ge_model.simulate()"
      ],
      "metadata": {
        "colab": {
          "base_uri": "https://localhost:8080/"
        },
        "id": "9BMF6hRntIrI",
        "outputId": "a198db21-1f26-40d2-9aa5-d0824884947e"
      },
      "execution_count": null,
      "outputs": [
        {
          "output_type": "stream",
          "name": "stdout",
          "text": [
            "Solving for conditional MRs...\n",
            "The solution converged.\n",
            "Solving full GE model...\n",
            "The solution converged.\n"
          ]
        }
      ]
    },
    {
      "cell_type": "code",
      "source": [
        "# We can examine the counterfactual trade flows predicted by the model.\n",
        "print(ge_model.bilateral_trade_results.head(50))"
      ],
      "metadata": {
        "colab": {
          "base_uri": "https://localhost:8080/"
        },
        "id": "oQerzi0BtOZA",
        "outputId": "7c12597b-f8fe-4074-bce4-293c7673e731"
      },
      "execution_count": null,
      "outputs": [
        {
          "output_type": "stream",
          "name": "stdout",
          "text": [
            "             baseline modeled trade  experiment trade  trade change (percent)\n",
            "iso_o iso_d                                                                  \n",
            "ARE   ARE              5.937136e+06      5.840331e+06               -1.630495\n",
            "      AUS              1.155669e+06      1.251077e+06                8.255630\n",
            "      BRN              2.448533e+04      2.873616e+04               17.360722\n",
            "      CHN              1.645690e+07      1.623509e+07               -1.347823\n",
            "      IDN              8.890153e+05      9.829551e+05               10.566726\n",
            "      IND              5.886648e+06      6.516330e+06               10.696787\n",
            "      JPN              3.726282e+06      3.667197e+06               -1.585627\n",
            "      KHM              2.058325e+04      2.276869e+04               10.617546\n",
            "      LAO              1.263042e+04      1.405698e+04               11.294611\n",
            "      MMR              1.154684e+05      1.269860e+05                9.974710\n",
            "      MYS              6.475560e+05      7.432372e+05               14.775734\n",
            "      PHL              2.799199e+05      3.101856e+05               10.812285\n",
            "      SGP              6.819078e+05      7.796344e+05               14.331348\n",
            "      THA              3.796598e+05      4.139930e+05                9.043164\n",
            "      USA              2.866848e+07      2.815872e+07               -1.778129\n",
            "      VNM              2.393185e+05      2.646446e+05               10.582565\n",
            "AUS   ARE              6.585523e+08      7.116137e+08                8.057273\n",
            "      AUS              8.045335e+06      7.036361e+06              -12.541100\n",
            "      BRN              3.032863e+05      2.875604e+05               -5.185166\n",
            "      CHN              5.474879e+08      5.933005e+08                8.367783\n",
            "      IDN              2.983831e+07      2.665337e+07              -10.673984\n",
            "      IND              6.653121e+07      5.949958e+07              -10.568908\n",
            "      JPN              1.218640e+08      1.317430e+08                8.106560\n",
            "      KHM              6.550940e+05      5.854383e+05              -10.632927\n",
            "      LAO              4.154716e+05      3.735674e+05              -10.085931\n",
            "      MMR              1.331979e+06      1.183433e+06              -11.152269\n",
            "      MYS              7.869729e+06      7.297319e+06               -7.273558\n",
            "      PHL              9.344563e+06      8.365664e+06              -10.475598\n",
            "      SGP              8.605990e+06      7.949131e+06               -7.632574\n",
            "      THA              1.183634e+07      1.042724e+07              -11.904858\n",
            "      USA              9.362669e+08      1.010186e+09                7.895100\n",
            "      VNM              7.614256e+06      6.802486e+06              -10.661188\n",
            "BRN   ARE              1.036656e+07      1.150367e+07               10.969017\n",
            "      AUS              2.205355e+05      1.980753e+05              -10.184406\n",
            "      BRN              5.591623e+02      4.004256e+02              -28.388293\n",
            "      CHN              3.260052e+06      3.628044e+06               11.287895\n",
            "      IDN              2.513248e+05      1.695591e+05              -32.533885\n",
            "      IND              1.381755e+06      9.333133e+05              -32.454524\n",
            "      JPN              7.103531e+05      7.886314e+05               11.019632\n",
            "      KHM              6.021258e+03      4.064176e+03              -32.502876\n",
            "      LAO              3.566908e+03      2.422297e+03              -32.089741\n",
            "      MMR              3.032860e+04      2.035197e+04              -32.895124\n",
            "      MYS              2.434285e+05      1.704837e+05              -29.965613\n",
            "      PHL              7.949184e+04      5.374916e+04              -32.384048\n",
            "      SGP              1.911047e+05      1.333208e+05              -30.236770\n",
            "      THA              1.008820e+05      6.712330e+04              -33.463539\n",
            "      USA              5.055061e+06      5.601132e+06               10.802474\n",
            "      VNM              6.772430e+04      4.569750e+04              -32.524220\n",
            "CHN   ARE              9.444368e+09      9.318773e+09               -1.329841\n",
            "      AUS              4.986897e+08      5.415096e+08                8.586501\n"
          ]
        }
      ]
    },
    {
      "cell_type": "markdown",
      "source": [
        "Now that our baseline and counterfactual models are solved, we can access and export the  GE results. We retrieve many of the different sets of model results."
      ],
      "metadata": {
        "id": "vwoEyght6cBj"
      }
    },
    {
      "cell_type": "code",
      "source": [
        "# A collection of many of the key country-level results (prices, total imports/exports, GDP, welfare, etc.)\n",
        "country_results = ge_model.country_results"
      ],
      "metadata": {
        "id": "4-KLMT3Nts_3"
      },
      "execution_count": null,
      "outputs": []
    },
    {
      "cell_type": "code",
      "source": [
        "print(country_results)"
      ],
      "metadata": {
        "colab": {
          "base_uri": "https://localhost:8080/"
        },
        "id": "sjLrUIWIuJFi",
        "outputId": "a7584c3d-bd0f-47a4-c2bd-6df6a85a666d"
      },
      "execution_count": null,
      "outputs": [
        {
          "output_type": "stream",
          "name": "stdout",
          "text": [
            "         factory gate price change (percent)  omr change (percent)  imr change (percent)  GDP change (percent)  welfare statistic  terms of trade change (percent)  output change (percent)  expenditure change (percent)  foreign exports change (percent)  foreign imports change (percent)  intranational trade change (percent)\n",
            "country                                                                                                                                                                                                                                                                                                                            \n",
            "ARE                                 0.232614             -0.232074              0.000000              0.232614           0.997679                         0.232614                 0.232614                      0.232614                          0.559413                          0.305377                             -1.630495\n",
            "AUS                                 7.619561             -7.080089             -6.821232             15.497944           0.865816                        15.497944                 7.619561                      7.619561                          6.964895                          7.072089                            -12.541100\n",
            "BRN                                 6.669920             -6.252859             -4.709997             11.942404           0.893317                        11.942404                 6.669920                      6.669920                          6.151839                          6.735188                            -28.388293\n",
            "CHN                                 0.130705             -0.130534              0.097214              0.033458           0.999666                         0.033458                 0.130705                      0.130705                         -0.066524                          0.300418                             -1.046305\n",
            "IDN                                 7.049264             -6.585066             -6.203349             14.129090           0.876201                        14.129090                 7.049264                      7.049264                          6.566402                          6.766137                            -33.248573\n",
            "IND                                 7.429645             -6.915824             -6.258940             14.602549           0.872581                        14.602549                 7.429645                      7.429645                          6.930684                          7.318983                            -33.877425\n",
            "JPN                                 0.112927             -0.112800              0.041279              0.071619           0.999284                         0.071619                 0.112927                      0.112927                         -0.347726                         -0.153436                             -1.232238\n",
            "KHM                                 6.741448             -6.315680             -6.125016             13.705957           0.879461                        13.705957                 6.741448                      6.741448                          6.184145                          6.206346                            -32.638475\n",
            "LAO                                 6.832032             -6.395115             -6.001634             13.653073           0.879871                        13.653073                 6.832032                      6.832032                          6.239343                          6.331836                            -32.398422\n",
            "MMR                                 2.882510             -2.801749             -5.394810              8.749330           0.919546                         8.749330                 2.882510                      2.882510                          2.466037                          2.652635                            -25.207967\n",
            "MYS                                 6.692782             -6.272947             -5.244178             12.597601           0.888118                        12.597601                 6.692782                      6.692782                          6.188289                          6.557534                            -30.010624\n",
            "PHL                                 7.006537             -6.547765             -6.141947             14.008903           0.877124                        14.008903                 7.006537                      7.006537                          6.403198                          6.534054                            -33.020154\n",
            "SGP                                 6.737586             -6.312290             -5.345966             12.766019           0.886792                        12.766019                 6.737586                      6.737586                          6.219836                          6.565674                            -30.369365\n",
            "THA                                 4.828129             -4.605757             -6.036909             11.563092           0.896354                        11.563092                 4.828129                      4.828129                          4.273806                          4.447445                            -29.894498\n",
            "USA                                 0.159534             -0.159279             -0.019312              0.178880           0.998214                         0.178880                 0.159534                      0.159534                          0.100333                          0.721480                             -1.562973\n",
            "VNM                                 7.040891             -6.577758             -6.198156             14.113845           0.876318                        14.113845                 7.040891                      7.040891                          6.416114                          6.528362                            -33.223342\n"
          ]
        }
      ]
    },
    {
      "cell_type": "code",
      "source": [
        "# The bilateral trade results\n",
        "bilateral_results = ge_model.bilateral_trade_results"
      ],
      "metadata": {
        "id": "AwPzj7bgt2HN"
      },
      "execution_count": null,
      "outputs": []
    },
    {
      "cell_type": "code",
      "source": [
        "print(bilateral_results.head(60))"
      ],
      "metadata": {
        "colab": {
          "base_uri": "https://localhost:8080/"
        },
        "id": "Gr7r-eAdt70C",
        "outputId": "414c4fd0-768e-456d-fa36-a4ad39814e71"
      },
      "execution_count": null,
      "outputs": [
        {
          "output_type": "stream",
          "name": "stdout",
          "text": [
            "             baseline modeled trade  experiment trade  trade change (percent)\n",
            "iso_o iso_d                                                                  \n",
            "ARE   ARE              5.937136e+06      5.840331e+06               -1.630495\n",
            "      AUS              1.155669e+06      1.251077e+06                8.255630\n",
            "      BRN              2.448533e+04      2.873616e+04               17.360722\n",
            "      CHN              1.645690e+07      1.623509e+07               -1.347823\n",
            "      IDN              8.890153e+05      9.829551e+05               10.566726\n",
            "      IND              5.886648e+06      6.516330e+06               10.696787\n",
            "      JPN              3.726282e+06      3.667197e+06               -1.585627\n",
            "      KHM              2.058325e+04      2.276869e+04               10.617546\n",
            "      LAO              1.263042e+04      1.405698e+04               11.294611\n",
            "      MMR              1.154684e+05      1.269860e+05                9.974710\n",
            "      MYS              6.475560e+05      7.432372e+05               14.775734\n",
            "      PHL              2.799199e+05      3.101856e+05               10.812285\n",
            "      SGP              6.819078e+05      7.796344e+05               14.331348\n",
            "      THA              3.796598e+05      4.139930e+05                9.043164\n",
            "      USA              2.866848e+07      2.815872e+07               -1.778129\n",
            "      VNM              2.393185e+05      2.646446e+05               10.582565\n",
            "AUS   ARE              6.585523e+08      7.116137e+08                8.057273\n",
            "      AUS              8.045335e+06      7.036361e+06              -12.541100\n",
            "      BRN              3.032863e+05      2.875604e+05               -5.185166\n",
            "      CHN              5.474879e+08      5.933005e+08                8.367783\n",
            "      IDN              2.983831e+07      2.665337e+07              -10.673984\n",
            "      IND              6.653121e+07      5.949958e+07              -10.568908\n",
            "      JPN              1.218640e+08      1.317430e+08                8.106560\n",
            "      KHM              6.550940e+05      5.854383e+05              -10.632927\n",
            "      LAO              4.154716e+05      3.735674e+05              -10.085931\n",
            "      MMR              1.331979e+06      1.183433e+06              -11.152269\n",
            "      MYS              7.869729e+06      7.297319e+06               -7.273558\n",
            "      PHL              9.344563e+06      8.365664e+06              -10.475598\n",
            "      SGP              8.605990e+06      7.949131e+06               -7.632574\n",
            "      THA              1.183634e+07      1.042724e+07              -11.904858\n",
            "      USA              9.362669e+08      1.010186e+09                7.895100\n",
            "      VNM              7.614256e+06      6.802486e+06              -10.661188\n",
            "BRN   ARE              1.036656e+07      1.150367e+07               10.969017\n",
            "      AUS              2.205355e+05      1.980753e+05              -10.184406\n",
            "      BRN              5.591623e+02      4.004256e+02              -28.388293\n",
            "      CHN              3.260052e+06      3.628044e+06               11.287895\n",
            "      IDN              2.513248e+05      1.695591e+05              -32.533885\n",
            "      IND              1.381755e+06      9.333133e+05              -32.454524\n",
            "      JPN              7.103531e+05      7.886314e+05               11.019632\n",
            "      KHM              6.021258e+03      4.064176e+03              -32.502876\n",
            "      LAO              3.566908e+03      2.422297e+03              -32.089741\n",
            "      MMR              3.032860e+04      2.035197e+04              -32.895124\n",
            "      MYS              2.434285e+05      1.704837e+05              -29.965613\n",
            "      PHL              7.949184e+04      5.374916e+04              -32.384048\n",
            "      SGP              1.911047e+05      1.333208e+05              -30.236770\n",
            "      THA              1.008820e+05      6.712330e+04              -33.463539\n",
            "      USA              5.055061e+06      5.601132e+06               10.802474\n",
            "      VNM              6.772430e+04      4.569750e+04              -32.524220\n",
            "CHN   ARE              9.444368e+09      9.318773e+09               -1.329841\n",
            "      AUS              4.986897e+08      5.415096e+08                8.586501\n",
            "      BRN              4.700828e+06      5.533788e+06               17.719421\n",
            "      CHN              1.782482e+09      1.763832e+09               -1.046305\n",
            "      IDN              3.964694e+08      4.397030e+08               10.904659\n",
            "      IND              1.228131e+09      1.363656e+09               11.035118\n",
            "      JPN              1.795197e+09      1.772132e+09               -1.284835\n",
            "      KHM              9.693306e+06      1.075527e+07               10.955635\n",
            "      LAO              8.100220e+06      9.042662e+06               11.634769\n",
            "      MMR              2.534457e+07      2.795780e+07               10.310834\n",
            "      MYS              1.104449e+08      1.271513e+08               15.126532\n",
            "      PHL              1.346069e+08      1.496169e+08               11.150970\n"
          ]
        }
      ]
    },
    {
      "cell_type": "code",
      "source": [
        "# A wider selection of aggregate, country-level trade results\n",
        "agg_trade = ge_model.aggregate_trade_results\n",
        "print(agg_trade)"
      ],
      "metadata": {
        "colab": {
          "base_uri": "https://localhost:8080/"
        },
        "id": "FHFXuVy6xBcM",
        "outputId": "b9890e76-53c5-45f2-90d5-6022180768c7"
      },
      "execution_count": null,
      "outputs": [
        {
          "output_type": "stream",
          "name": "stdout",
          "text": [
            "         baseline modeled shipments  experiment shipments  shipments change (percent)  baseline modeled foreign exports  experiment foreign exports  foreign exports change (percent)  baseline modeled consumption  experiment consumption  consumption change (percent)  baseline modeled foreign imports  experiment foreign imports  foreign imports change (percent)  baseline modeled intranational trade  experiment modeled intranational trade  intranational trade change (percent)\n",
            "country                                                                                                                                                                                                                                                                                                                                                                                                                                                                                      \n",
            "ARE                    6.512166e+07          6.535594e+07                    0.359759                      5.918452e+07                5.951561e+07                          0.559413                  3.062978e+10            3.072320e+10                      0.305001                      3.062384e+10                3.071736e+10                          0.305377                          5.937136e+06                            5.840331e+06                             -1.630495\n",
            "AUS                    2.416563e+09          2.583304e+09                    6.899955                      2.408517e+09                2.576268e+09                          6.964895                  1.540000e+09            1.647332e+09                      6.969624                      1.531955e+09                1.640296e+09                          7.072089                          8.045335e+06                            7.036361e+06                            -12.541100\n",
            "BRN                    2.196875e+07          2.332004e+07                    6.150960                      2.196819e+07                2.331964e+07                          6.151839                  1.400000e+07            1.494273e+07                      6.733785                      1.399944e+07                1.494233e+07                          6.735188                          5.591623e+02                            4.004256e+02                            -28.388293\n",
            "CHN                    2.777478e+10          2.773884e+10                   -0.129402                      2.599230e+10                2.597501e+10                         -0.066524                  1.770000e+10            1.772917e+10                      0.164796                      1.591752e+10                1.596534e+10                          0.300418                          1.782482e+09                            1.763832e+09                             -1.046305\n",
            "IDN                    1.867344e+09          1.986488e+09                    6.380429                      1.858622e+09                1.980666e+09                          6.566402                  1.190000e+09            1.267027e+09                      6.472844                      1.181278e+09                1.261205e+09                          6.766137                          8.722261e+06                            5.822234e+06                            -33.248573\n",
            "IND                    4.974353e+09          5.303009e+09                    6.607017                      4.934899e+09                5.276922e+09                          6.930684                  3.170000e+09            3.385758e+09                      6.806253                      3.130546e+09                3.359670e+09                          7.318983                          3.945382e+07                            2.608788e+07                            -33.877425\n",
            "JPN                    7.751831e+09          7.724028e+09                   -0.358663                      7.655982e+09                7.629360e+09                         -0.347726                  4.940000e+09            4.931386e+09                     -0.174367                      4.844151e+09                4.836719e+09                         -0.153436                          9.584877e+07                            9.466768e+07                             -1.232238\n",
            "KHM                    4.236831e+07          4.498620e+07                    6.178888                      4.236257e+07                4.498233e+07                          6.184145                  2.700000e+07            2.867349e+07                      6.198093                      2.699426e+07                2.866962e+07                          6.206346                          5.736587e+03                            3.864253e+03                            -32.638475\n",
            "LAO                    2.950090e+07          3.134083e+07                    6.236872                      2.949901e+07                3.133955e+07                          6.239343                  1.880000e+07            1.998965e+07                      6.327948                      1.879811e+07                1.998838e+07                          6.331836                          1.887269e+03                            1.275824e+03                            -32.398422\n",
            "MMR                    1.021547e+08          1.046710e+08                    2.463205                      1.021442e+08                1.046632e+08                          2.466037                  6.510000e+07            6.682395e+07                      2.648162                      6.508955e+07                6.681614e+07                          2.652635                          1.045200e+04                            7.817265e+03                            -25.207967\n",
            "MYS                    5.853103e+08          6.213790e+08                    6.162320                      5.848904e+08                6.210851e+08                          6.188289                  3.730000e+08            3.973061e+08                      6.516368                      3.725801e+08                3.970122e+08                          6.557534                          4.199005e+05                            2.938858e+05                            -30.010624\n",
            "PHL                    6.182634e+08          6.575300e+08                    6.351104                      6.174465e+08                6.569828e+08                          6.403198                  3.940000e+08            4.194210e+08                      6.452037                      3.931830e+08                4.188738e+08                          6.534054                          8.169720e+05                            5.472066e+05                            -33.020154\n",
            "SGP                    6.229710e+08          6.615459e+08                    6.192084                      6.224985e+08                6.612169e+08                          6.219836                  3.970000e+08            4.228912e+08                      6.521714                      3.965275e+08                4.225622e+08                          6.565674                          4.725098e+05                            3.290115e+05                            -30.369365\n",
            "THA                    7.940135e+08          8.273601e+08                    4.199759                      7.922927e+08                8.261538e+08                          4.273806                  5.060000e+08            5.279131e+08                      4.330661                      5.042793e+08                5.267068e+08                          4.447445                          1.720714e+06                            1.206315e+06                            -29.894498\n",
            "USA                    3.609152e+10          3.605431e+10                   -0.103099                      3.167732e+10                3.170911e+10                          0.100333                  2.300000e+10            2.306510e+10                      0.283044                      1.858580e+10                1.871990e+10                          0.721480                          4.414198e+09                            4.345205e+09                             -1.562973\n",
            "VNM                    5.696183e+08          6.058848e+08                    6.366791                      5.689096e+08                6.054115e+08                          6.416114                  3.630000e+08            3.864162e+08                      6.450746                      3.622912e+08                3.859429e+08                          6.528362                          7.087669e+05                            4.732908e+05                            -33.223342\n"
          ]
        }
      ]
    },
    {
      "cell_type": "code",
      "source": [
        "# country multilateral resistance (MR) terms\n",
        "mr_terms = ge_model.country_mr_terms\n",
        "# Get the solver diaganoistics, which is a dictionary containing many types of solver diagnostic info\n",
        "solver_diagnostics = ge_model.solver_diagnostics\n",
        "mr_terms = ge_model.country_mr_terms\n",
        "print(mr_terms)"
      ],
      "metadata": {
        "colab": {
          "base_uri": "https://localhost:8080/"
        },
        "id": "uzlHdQxfxEVF",
        "outputId": "7d49ba20-f576-4ec6-bfde-0c22da527139"
      },
      "execution_count": null,
      "outputs": [
        {
          "output_type": "stream",
          "name": "stdout",
          "text": [
            "         baseline imr  conditional imr  experiment imr  baseline omr  conditional omr  experiment omr\n",
            "country                                                                                              \n",
            "ARE          1.000000         1.000000        1.000000      0.786262         0.784437        0.784437\n",
            "AUS          1.024965         0.955050        0.955050      0.744974         0.692229        0.692229\n",
            "BRN          0.985064         0.938667        0.938667      0.634357         0.594692        0.594692\n",
            "CHN          1.076466         1.077513        1.077513      0.809144         0.808087        0.808087\n",
            "IDN          1.016907         0.953825        0.953825      0.794634         0.742306        0.742306\n",
            "IND          0.979618         0.918304        0.918304      0.741548         0.690264        0.690264\n",
            "JPN          1.019591         1.020012        1.020012      0.750994         0.750147        0.750147\n",
            "KHM          1.022609         0.959974        0.959974      0.818215         0.766539        0.766539\n",
            "LAO          0.990892         0.931423        0.931423      0.768698         0.719539        0.719539\n",
            "MMR          0.977245         0.924524        0.924524      0.650138         0.631923        0.631923\n",
            "MYS          0.976890         0.925660        0.925660      0.678582         0.636015        0.636015\n",
            "PHL          1.000332         0.938892        0.938892      0.760701         0.710892        0.710892\n",
            "SGP          0.975075         0.922947        0.922947      0.633560         0.593567        0.593567\n",
            "THA          1.006177         0.945435        0.945435      0.808777         0.771526        0.771526\n",
            "USA          1.165354         1.165129        1.165129      0.822774         0.821463        0.821463\n",
            "VNM          0.978487         0.917839        0.917839      0.782769         0.731280        0.731280\n"
          ]
        }
      ]
    },
    {
      "cell_type": "code",
      "source": [
        "solver_diagnostics = ge_model.solver_diagnostics"
      ],
      "metadata": {
        "id": "c6Un4blvxSRf"
      },
      "execution_count": null,
      "outputs": []
    },
    {
      "cell_type": "code",
      "source": [
        "# Export the results to a collection of spreadsheet (.csv) files and add trade values in levels to the outputs.\n",
        "from google.colab import drive\n",
        "drive.mount('/content/drive')"
      ],
      "metadata": {
        "colab": {
          "base_uri": "https://localhost:8080/"
        },
        "id": "wGp5VqhnxjVZ",
        "outputId": "409600ed-c43b-48fe-9433-e884621fa6b8"
      },
      "execution_count": null,
      "outputs": [
        {
          "output_type": "stream",
          "name": "stdout",
          "text": [
            "Mounted at /content/drive\n"
          ]
        }
      ]
    },
    {
      "cell_type": "code",
      "source": [
        "import os\n",
        "output_directory = \"/content/drive/My Drive/\"\n",
        "os.makedirs(output_directory, exist_ok=True)\n",
        "ge_model.export_results(directory=output_directory, name=\"GE_analysis\")"
      ],
      "metadata": {
        "id": "WGbxYNSEx8uK"
      },
      "execution_count": null,
      "outputs": []
    }
  ]
}